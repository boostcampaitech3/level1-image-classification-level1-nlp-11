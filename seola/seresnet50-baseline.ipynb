{
 "cells": [
  {
   "cell_type": "markdown",
   "id": "60d58132-3159-417f-a105-24183c0e3178",
   "metadata": {},
   "source": [
    "# resnet18 baseline code\n",
    "\n",
    "- 7조 이민준님 참고\n",
    "- seed : 42\n",
    "- pretrained model : se-resnet50\n",
    "- loss : cross entropy\n",
    "- optimizer : adam\n",
    "- epoch: 5\n",
    "- batch-size : 32\n",
    "- data augmentation : y\n",
    "- fc layer : relu&dropout(0.7)\n",
    "- lr : 0.0001"
   ]
  },
  {
   "cell_type": "markdown",
   "id": "88d734db-7e90-4397-bd9f-b33e40d3106d",
   "metadata": {},
   "source": [
    "## 라이브러리 임포트"
   ]
  },
  {
   "cell_type": "code",
   "execution_count": 1,
   "id": "10820d91-a4c9-4ffa-9585-7a6b5ec7dbfc",
   "metadata": {},
   "outputs": [],
   "source": [
    "import os\n",
    "import numpy as np\n",
    "import pandas as pd\n",
    "import matplotlib.pyplot as plt\n",
    "from PIL import Image\n",
    "\n",
    "import torch\n",
    "import torchvision\n",
    "import torch.nn as nn\n",
    "import torch.optim as optim\n",
    "import torch.nn.functional as F\n",
    "from torchvision import transforms, utils\n",
    "import random\n",
    "from torchvision.transforms import Resize, ToTensor, Normalize\n",
    "from torch.utils.data import Dataset, DataLoader, random_split, SubsetRandomSampler, WeightedRandomSampler"
   ]
  },
  {
   "cell_type": "code",
   "execution_count": 2,
   "id": "f439ba0b-21ef-466a-927b-03f3b8278e92",
   "metadata": {},
   "outputs": [],
   "source": [
    "import gc\n",
    "gc.collect()\n",
    "torch.cuda.empty_cache()"
   ]
  },
  {
   "cell_type": "code",
   "execution_count": 3,
   "id": "95461161-42b3-48a9-8f65-ce5eb2e31cc3",
   "metadata": {},
   "outputs": [],
   "source": [
    "train_path = '/opt/ml/input/data/train'\n",
    "train_image_dir_path = os.path.join(train_path, 'images')"
   ]
  },
  {
   "cell_type": "code",
   "execution_count": 4,
   "id": "32acba16-9b1e-4374-a59e-f705d8f9fd3b",
   "metadata": {},
   "outputs": [],
   "source": [
    "def seed_everything(seed):\n",
    "    \"\"\"\n",
    "    동일한 조건으로 학습을 할 때, 동일한 결과를 얻기 위해 seed를 고정시킵니다.\n",
    "    \n",
    "    Args:\n",
    "        seed: seed 정수값\n",
    "    \"\"\"\n",
    "    torch.manual_seed(seed) # pytorch의 random seed 고정\n",
    "    torch.cuda.manual_seed(seed) # GPU 에서 사용하는 난수 생성 시드 고정\n",
    "    # torch.cuda.manual_seed_all(seed)  # if use multi-GPU\n",
    "    torch.backends.cudnn.deterministic = True # CuDNN 부분고정\n",
    "    torch.backends.cudnn.benchmark = False # CuDNN 부분고정\n",
    "    np.random.seed(seed) # Numpy 부분\n",
    "    random.seed(seed) # transforms에서 random 라이브러리를 사용하기 때문에 random 라이브러리를 불러서 고정\n",
    "\n",
    "seed_everything(42)"
   ]
  },
  {
   "cell_type": "markdown",
   "id": "698f5aa8-1fb0-4240-abfa-5441582a11e2",
   "metadata": {},
   "source": [
    "## dataset 생성"
   ]
  },
  {
   "cell_type": "code",
   "execution_count": 5,
   "id": "4d915fe8-2105-4a7e-85d1-6f5ddd4e3990",
   "metadata": {},
   "outputs": [],
   "source": [
    "def search(dirname, result):  # 하위목록의 모든 파일을 찾는 함수\n",
    "    try:\n",
    "        filenames = os.listdir(dirname)\n",
    "        for filename in filenames:\n",
    "            if filename[0] == '.':  # .으로 시작하는 파일명 거름\n",
    "                continue\n",
    "            full_filename = os.path.join(dirname, filename)\n",
    "            if os.path.isdir(full_filename):\n",
    "                search(full_filename, result)\n",
    "            else:\n",
    "                ext = os.path.splitext(full_filename)[-1]  # 확장자 체크\n",
    "                if ext:\n",
    "                    result.append(full_filename)\n",
    "    except PermissionError:\n",
    "        pass"
   ]
  },
  {
   "cell_type": "code",
   "execution_count": 6,
   "id": "ba45af04-0e7b-4ec9-b28a-800d813a2d94",
   "metadata": {},
   "outputs": [],
   "source": [
    "all_path = []\n",
    "search(train_image_dir_path, all_path)"
   ]
  },
  {
   "cell_type": "markdown",
   "id": "57ff20be-a042-40b4-82f4-de999625e1f0",
   "metadata": {},
   "source": [
    "train 데이터의 디렉토리는 2700개로 각각의 7개의 이미지 파일을 곱한 갯수가 나옵니다."
   ]
  },
  {
   "cell_type": "code",
   "execution_count": 7,
   "id": "a3cd2365-0896-4622-aea8-bb377f904df5",
   "metadata": {},
   "outputs": [
    {
     "data": {
      "text/plain": [
       "18900"
      ]
     },
     "execution_count": 7,
     "metadata": {},
     "output_type": "execute_result"
    }
   ],
   "source": [
    "len(all_path) # 2700*7"
   ]
  },
  {
   "cell_type": "code",
   "execution_count": 8,
   "id": "b25397fa-a6e1-44a8-874d-43bbcdaa0083",
   "metadata": {},
   "outputs": [
    {
     "data": {
      "text/plain": [
       "['/opt/ml/input/data/train/images/003554_female_Asian_59/mask3.jpg',\n",
       " '/opt/ml/input/data/train/images/003554_female_Asian_59/mask5.jpg',\n",
       " '/opt/ml/input/data/train/images/003554_female_Asian_59/incorrect_mask.jpg',\n",
       " '/opt/ml/input/data/train/images/003554_female_Asian_59/mask4.jpg',\n",
       " '/opt/ml/input/data/train/images/003554_female_Asian_59/mask1.jpg',\n",
       " '/opt/ml/input/data/train/images/003554_female_Asian_59/normal.jpg',\n",
       " '/opt/ml/input/data/train/images/003554_female_Asian_59/mask2.jpg',\n",
       " '/opt/ml/input/data/train/images/003845_female_Asian_56/mask3.jpg',\n",
       " '/opt/ml/input/data/train/images/003845_female_Asian_56/mask5.jpg',\n",
       " '/opt/ml/input/data/train/images/003845_female_Asian_56/incorrect_mask.jpg']"
      ]
     },
     "execution_count": 8,
     "metadata": {},
     "output_type": "execute_result"
    }
   ],
   "source": [
    "all_path[:10]"
   ]
  },
  {
   "cell_type": "markdown",
   "id": "d3f4dfd6-fb61-4d95-829c-ae1291c05317",
   "metadata": {},
   "source": [
    "파일 확장자는 jpg, png, jpeg로 3종류가 있습니다."
   ]
  },
  {
   "cell_type": "code",
   "execution_count": 9,
   "id": "7f3f9cc7-ee91-4ce4-a040-af9045d0be9b",
   "metadata": {},
   "outputs": [
    {
     "name": "stdout",
     "output_type": "stream",
     "text": [
      "['.jpg', '.png', '.jpeg']\n"
     ]
    }
   ],
   "source": [
    "exts = []\n",
    "for i in all_path:\n",
    "    ext = os.path.splitext(i)[-1]\n",
    "    if ext not in exts:\n",
    "        exts.append(ext)\n",
    "print(exts)  # jpg, png, jpeg"
   ]
  },
  {
   "cell_type": "code",
   "execution_count": 10,
   "id": "4268e22c-147f-4980-87cc-c7774d3ae7da",
   "metadata": {},
   "outputs": [
    {
     "data": {
      "text/plain": [
       "['/opt/ml/input/data/train/images/000001_female_Asian_45/incorrect_mask.jpg',\n",
       " '/opt/ml/input/data/train/images/000001_female_Asian_45/mask1.jpg',\n",
       " '/opt/ml/input/data/train/images/000001_female_Asian_45/mask2.jpg',\n",
       " '/opt/ml/input/data/train/images/000001_female_Asian_45/mask3.jpg',\n",
       " '/opt/ml/input/data/train/images/000001_female_Asian_45/mask4.jpg',\n",
       " '/opt/ml/input/data/train/images/000001_female_Asian_45/mask5.jpg',\n",
       " '/opt/ml/input/data/train/images/000001_female_Asian_45/normal.jpg',\n",
       " '/opt/ml/input/data/train/images/000002_female_Asian_52/incorrect_mask.jpg',\n",
       " '/opt/ml/input/data/train/images/000002_female_Asian_52/mask1.jpg',\n",
       " '/opt/ml/input/data/train/images/000002_female_Asian_52/mask2.jpg']"
      ]
     },
     "execution_count": 10,
     "metadata": {},
     "output_type": "execute_result"
    }
   ],
   "source": [
    "all_path = sorted(all_path)\n",
    "all_path[:10]"
   ]
  },
  {
   "cell_type": "markdown",
   "id": "6bddc3eb-3b79-4b75-bda9-6a3ae9aeda26",
   "metadata": {},
   "source": [
    "라벨링 하는 함수입니다. 조건에 따라 숫자로 라벨을 부여합니다."
   ]
  },
  {
   "cell_type": "code",
   "execution_count": 11,
   "id": "f42dfe47-e41c-4063-a516-97c18a186caf",
   "metadata": {},
   "outputs": [],
   "source": [
    "def labeling(name):\n",
    "    label = 0\n",
    "    info, mask_type = name.split('/')[-2:]\n",
    "    info = info.split('_')\n",
    "    gender, age = info[1], int(info[3])\n",
    "    if 'incorrect' in mask_type:\n",
    "        label += 6\n",
    "    elif 'normal' in mask_type:\n",
    "        label += 12\n",
    "    \n",
    "    if gender == 'female':\n",
    "        label += 3\n",
    "    \n",
    "    if 30 <= age < 60:\n",
    "        label += 1\n",
    "    elif age >= 60:\n",
    "        label += 2\n",
    "    \n",
    "    return label"
   ]
  },
  {
   "cell_type": "markdown",
   "id": "2bc92178-c02a-4df2-bf1b-26e79546a2d8",
   "metadata": {},
   "source": [
    "path, label을 컬럼으로 갖는 dataframe을 생성해줍니다."
   ]
  },
  {
   "cell_type": "code",
   "execution_count": 12,
   "id": "c2a1dcdc-09ba-4f94-91c3-af227d686ea3",
   "metadata": {},
   "outputs": [
    {
     "data": {
      "text/html": [
       "<div>\n",
       "<style scoped>\n",
       "    .dataframe tbody tr th:only-of-type {\n",
       "        vertical-align: middle;\n",
       "    }\n",
       "\n",
       "    .dataframe tbody tr th {\n",
       "        vertical-align: top;\n",
       "    }\n",
       "\n",
       "    .dataframe thead th {\n",
       "        text-align: right;\n",
       "    }\n",
       "</style>\n",
       "<table border=\"1\" class=\"dataframe\">\n",
       "  <thead>\n",
       "    <tr style=\"text-align: right;\">\n",
       "      <th></th>\n",
       "      <th>path</th>\n",
       "      <th>label</th>\n",
       "    </tr>\n",
       "  </thead>\n",
       "  <tbody>\n",
       "    <tr>\n",
       "      <th>0</th>\n",
       "      <td>/opt/ml/input/data/train/images/000001_female_...</td>\n",
       "      <td>10</td>\n",
       "    </tr>\n",
       "    <tr>\n",
       "      <th>1</th>\n",
       "      <td>/opt/ml/input/data/train/images/000001_female_...</td>\n",
       "      <td>4</td>\n",
       "    </tr>\n",
       "    <tr>\n",
       "      <th>2</th>\n",
       "      <td>/opt/ml/input/data/train/images/000001_female_...</td>\n",
       "      <td>4</td>\n",
       "    </tr>\n",
       "    <tr>\n",
       "      <th>3</th>\n",
       "      <td>/opt/ml/input/data/train/images/000001_female_...</td>\n",
       "      <td>4</td>\n",
       "    </tr>\n",
       "    <tr>\n",
       "      <th>4</th>\n",
       "      <td>/opt/ml/input/data/train/images/000001_female_...</td>\n",
       "      <td>4</td>\n",
       "    </tr>\n",
       "    <tr>\n",
       "      <th>...</th>\n",
       "      <td>...</td>\n",
       "      <td>...</td>\n",
       "    </tr>\n",
       "    <tr>\n",
       "      <th>18895</th>\n",
       "      <td>/opt/ml/input/data/train/images/006959_male_As...</td>\n",
       "      <td>0</td>\n",
       "    </tr>\n",
       "    <tr>\n",
       "      <th>18896</th>\n",
       "      <td>/opt/ml/input/data/train/images/006959_male_As...</td>\n",
       "      <td>0</td>\n",
       "    </tr>\n",
       "    <tr>\n",
       "      <th>18897</th>\n",
       "      <td>/opt/ml/input/data/train/images/006959_male_As...</td>\n",
       "      <td>0</td>\n",
       "    </tr>\n",
       "    <tr>\n",
       "      <th>18898</th>\n",
       "      <td>/opt/ml/input/data/train/images/006959_male_As...</td>\n",
       "      <td>0</td>\n",
       "    </tr>\n",
       "    <tr>\n",
       "      <th>18899</th>\n",
       "      <td>/opt/ml/input/data/train/images/006959_male_As...</td>\n",
       "      <td>12</td>\n",
       "    </tr>\n",
       "  </tbody>\n",
       "</table>\n",
       "<p>18900 rows × 2 columns</p>\n",
       "</div>"
      ],
      "text/plain": [
       "                                                    path  label\n",
       "0      /opt/ml/input/data/train/images/000001_female_...     10\n",
       "1      /opt/ml/input/data/train/images/000001_female_...      4\n",
       "2      /opt/ml/input/data/train/images/000001_female_...      4\n",
       "3      /opt/ml/input/data/train/images/000001_female_...      4\n",
       "4      /opt/ml/input/data/train/images/000001_female_...      4\n",
       "...                                                  ...    ...\n",
       "18895  /opt/ml/input/data/train/images/006959_male_As...      0\n",
       "18896  /opt/ml/input/data/train/images/006959_male_As...      0\n",
       "18897  /opt/ml/input/data/train/images/006959_male_As...      0\n",
       "18898  /opt/ml/input/data/train/images/006959_male_As...      0\n",
       "18899  /opt/ml/input/data/train/images/006959_male_As...     12\n",
       "\n",
       "[18900 rows x 2 columns]"
      ]
     },
     "execution_count": 12,
     "metadata": {},
     "output_type": "execute_result"
    }
   ],
   "source": [
    "train_df = pd.DataFrame(all_path, columns = ['path'])\n",
    "\n",
    "train_df['label'] = train_df['path'].map(lambda x : labeling(x))\n",
    "train_df"
   ]
  },
  {
   "cell_type": "code",
   "execution_count": 14,
   "id": "37df9b06-71ab-4436-8b38-8b524e385dd3",
   "metadata": {},
   "outputs": [],
   "source": [
    "class CustomDataset(Dataset):\n",
    "    def __init__(self, img_paths_label, transform):\n",
    "        self.X = img_paths_label['path']\n",
    "        self.y = img_paths_label['label']\n",
    "        self.transform = transform\n",
    "    \n",
    "    def __getitem__(self, index):\n",
    "        image = Image.open(self.X.iloc[index])\n",
    "        label = self.y.iloc[index]\n",
    "        \n",
    "        if self.transform:\n",
    "            image = self.transform(image)\n",
    "        return image, torch.tensor(label)\n",
    "    \n",
    "    def __len__(self):\n",
    "        return len(self.X)"
   ]
  },
  {
   "cell_type": "code",
   "execution_count": 15,
   "id": "31a015f5-d4cd-4bdc-a021-a822158e6092",
   "metadata": {},
   "outputs": [],
   "source": [
    "# transform = transforms.Compose([\n",
    "#     Resize((512, 384), Image.BILINEAR),\n",
    "#     ToTensor(),\n",
    "#     Normalize(mean=(0.5, 0.5, 0.5), std=(0.2, 0.2, 0.2))\n",
    "# ])"
   ]
  },
  {
   "cell_type": "code",
   "execution_count": 16,
   "id": "dafd09ed-8d41-4287-89ad-2d1824ea95aa",
   "metadata": {},
   "outputs": [],
   "source": [
    "normalize = transforms.Normalize(mean=[0.485, 0.456, 0.406],\n",
    "                                 std=[0.229, 0.224, 0.225])\n",
    "\n",
    "data_transforms = {\n",
    "    'train':\n",
    "    transforms.Compose([\n",
    "        transforms.Resize((224,224)),\n",
    "        transforms.RandomAffine(0, shear=10, scale=(0.8,1.2)),\n",
    "        transforms.RandomHorizontalFlip(),\n",
    "        transforms.ToTensor(),\n",
    "        normalize\n",
    "    ]),\n",
    "    'val':\n",
    "    transforms.Compose([\n",
    "        transforms.Resize((224,224)),\n",
    "        transforms.ToTensor(),\n",
    "        normalize\n",
    "    ]),\n",
    "}"
   ]
  },
  {
   "cell_type": "markdown",
   "id": "4e4578c0-a099-4618-8940-dac3c6a9cdb5",
   "metadata": {},
   "source": [
    "train, valid 나누는 파트입니다.\n",
    "label의 비율을 유지하면서 나눴습니다."
   ]
  },
  {
   "cell_type": "code",
   "execution_count": 17,
   "id": "8931fe1c-6cd2-4f43-98de-70af4ba3f7bf",
   "metadata": {},
   "outputs": [],
   "source": [
    "from sklearn.model_selection import train_test_split\n",
    "train, valid = train_test_split(train_df, test_size=0.2,\n",
    "                               shuffle=True, stratify=train_df['label'],\n",
    "                               random_state=42)"
   ]
  },
  {
   "cell_type": "code",
   "execution_count": 18,
   "id": "68e04143-ad8c-4b53-a2be-9fae4cd62aef",
   "metadata": {},
   "outputs": [
    {
     "data": {
      "text/plain": [
       "((15120, 2), (3780, 2))"
      ]
     },
     "execution_count": 18,
     "metadata": {},
     "output_type": "execute_result"
    }
   ],
   "source": [
    "train.shape, valid.shape"
   ]
  },
  {
   "cell_type": "markdown",
   "id": "3b1abb1f-acc8-44bb-9200-c2327fd61750",
   "metadata": {},
   "source": [
    "### batch size"
   ]
  },
  {
   "cell_type": "code",
   "execution_count": 19,
   "id": "fcf47765-b094-4d2a-b504-59b378103e2e",
   "metadata": {},
   "outputs": [],
   "source": [
    "BATCH_SIZE = 32"
   ]
  },
  {
   "cell_type": "markdown",
   "id": "12ce452c-8afa-4570-b672-43c5a6949da8",
   "metadata": {},
   "source": [
    "## dataloader 설정"
   ]
  },
  {
   "cell_type": "code",
   "execution_count": 20,
   "id": "e5f8dcf8-0aa2-455f-a829-6eecfce0a08c",
   "metadata": {},
   "outputs": [],
   "source": [
    "train_dataset = CustomDataset(train, data_transforms['train'])\n",
    "train_dataloader = DataLoader(train_dataset,\n",
    "                             batch_size = BATCH_SIZE,\n",
    "                             shuffle=True)\n",
    "\n",
    "valid_dataset = CustomDataset(valid, data_transforms['val'])\n",
    "valid_dataloader = DataLoader(valid_dataset,\n",
    "                             batch_size=BATCH_SIZE,\n",
    "                             shuffle=True)"
   ]
  },
  {
   "cell_type": "markdown",
   "id": "5e53b238-de65-4d1a-a016-c79218b508cb",
   "metadata": {},
   "source": [
    "dataloader는 [batchsize, channel, height, wide]를 출력해줍니다."
   ]
  },
  {
   "cell_type": "code",
   "execution_count": 21,
   "id": "26fb722f-f398-4bd5-9733-5992d783a539",
   "metadata": {},
   "outputs": [
    {
     "data": {
      "text/plain": [
       "torch.Size([32, 3, 224, 224])"
      ]
     },
     "execution_count": 21,
     "metadata": {},
     "output_type": "execute_result"
    }
   ],
   "source": [
    "next(iter(train_dataloader))[0].shape"
   ]
  },
  {
   "cell_type": "markdown",
   "id": "8c31a7a6-0188-4d02-b8e9-4f1845b60f19",
   "metadata": {},
   "source": [
    "## 모델"
   ]
  },
  {
   "cell_type": "code",
   "execution_count": 22,
   "id": "970ee4a0-8f39-411c-abd6-79e7cc629557",
   "metadata": {},
   "outputs": [],
   "source": [
    "# !pip3 install ipywidgets"
   ]
  },
  {
   "cell_type": "code",
   "execution_count": 23,
   "id": "1c4d0075-2e3c-4cb1-89ef-c3341774102a",
   "metadata": {},
   "outputs": [],
   "source": [
    "# pip install --upgrade jupyter_client"
   ]
  },
  {
   "cell_type": "code",
   "execution_count": 24,
   "id": "974f7005-de9a-4478-ad4e-db79a9f429d6",
   "metadata": {},
   "outputs": [
    {
     "data": {
      "text/plain": [
       "device(type='cuda', index=0)"
      ]
     },
     "execution_count": 24,
     "metadata": {},
     "output_type": "execute_result"
    }
   ],
   "source": [
    "device = torch.device(\"cuda:0\" if torch.cuda.is_available() else \"cpu\")\n",
    "device"
   ]
  },
  {
   "cell_type": "code",
   "execution_count": 25,
   "id": "fdddc000-2a7f-44ce-aa0a-5c9711bdd44a",
   "metadata": {},
   "outputs": [],
   "source": [
    "# !pip install timm"
   ]
  },
  {
   "cell_type": "markdown",
   "id": "e4c5a73c-eedf-4311-b62b-e47235308b32",
   "metadata": {},
   "source": [
    "### 모델 불러오기"
   ]
  },
  {
   "cell_type": "code",
   "execution_count": 26,
   "id": "9d6fb1d4-b217-4638-8cee-24c3e951ba43",
   "metadata": {},
   "outputs": [],
   "source": [
    "import timm\n",
    "se50 = timm.create_model('seresnet50', pretrained=True)"
   ]
  },
  {
   "cell_type": "markdown",
   "id": "e6bc4570-2910-4934-8184-73cbc60b264b",
   "metadata": {},
   "source": [
    "### fc 레이어 수정\n",
    "\n",
    "> relu, dropout 추가"
   ]
  },
  {
   "cell_type": "code",
   "execution_count": 27,
   "id": "40b395d2-8c21-4bf9-9a33-de58c5c9937d",
   "metadata": {},
   "outputs": [],
   "source": [
    "se50.fc = nn.Sequential(\n",
    "               nn.Linear(2048, 512),\n",
    "               nn.ReLU(inplace=True),\n",
    "               nn.Dropout(0.7),\n",
    "               nn.Linear(512, 512),\n",
    "               nn.ReLU(inplace=True),\n",
    "               nn.Dropout(0.7),\n",
    "               nn.Linear(512, 18)).to(device)"
   ]
  },
  {
   "cell_type": "code",
   "execution_count": 28,
   "id": "5987c3dc-0d2f-4d4b-882e-b51de4431705",
   "metadata": {},
   "outputs": [
    {
     "data": {
      "text/plain": [
       "512"
      ]
     },
     "execution_count": 28,
     "metadata": {},
     "output_type": "execute_result"
    }
   ],
   "source": [
    "se50.fc[6].weight.size(1)"
   ]
  },
  {
   "cell_type": "code",
   "execution_count": 29,
   "id": "a21f3d41-4801-454b-8389-1c663b9a55ef",
   "metadata": {},
   "outputs": [
    {
     "data": {
      "text/plain": [
       "18"
      ]
     },
     "execution_count": 29,
     "metadata": {},
     "output_type": "execute_result"
    }
   ],
   "source": [
    "import math\n",
    "\n",
    "OUTPUT_CLASS_NUM = 18\n",
    "\n",
    "# xavier uniform\n",
    "torch.nn.init.xavier_uniform_(se50.fc[6].weight)\n",
    "stdv = 1. / math.sqrt(se50.fc[6].weight.size(1))\n",
    "se50.fc[6].bias.data.uniform_(-stdv, stdv)\n",
    "se50.fc[6].weight.shape[0]"
   ]
  },
  {
   "cell_type": "markdown",
   "id": "4d5d45fd-7e33-4a02-b7d2-b98dd6deb833",
   "metadata": {},
   "source": [
    "## loss, optimizer 설정"
   ]
  },
  {
   "cell_type": "code",
   "execution_count": 30,
   "id": "d19a3571-807e-47db-a44c-9ea2a265ce81",
   "metadata": {},
   "outputs": [],
   "source": [
    "se50.to(device)\n",
    "\n",
    "LEARNING_RATE = 0.0001  # 학습 때 사용하는 optimizer의 학습률 옵션 설정\n",
    "NUM_EPOCH = 5  # 학습 때 mnist train 데이터셋을 얼마나 많이 학습할 지 결정하는 옵션\n",
    "\n",
    "loss_fn = torch.nn.CrossEntropyLoss()  # 분류 학습 때 많이 사용되는 Cross entropy loss를 objective function으로 사용\n",
    "optimizer = torch.optim.Adam(se50.parameters(), lr=LEARNING_RATE)  # weight업데이트를 위한 optimizer를 Adam으로 사용\n",
    "\n",
    "dataloaders = {\n",
    "    \"train\" : train_dataloader,\n",
    "    \"test\" : valid_dataloader\n",
    "}"
   ]
  },
  {
   "cell_type": "markdown",
   "id": "4647cd0a-ba90-44e2-9ebd-235a2e7c04f0",
   "metadata": {},
   "source": [
    "## 학습"
   ]
  },
  {
   "cell_type": "code",
   "execution_count": 31,
   "id": "cb3ab20c-dfb5-4aac-b6b6-c05d7e816c09",
   "metadata": {},
   "outputs": [
    {
     "name": "stdout",
     "output_type": "stream",
     "text": [
      "현재 epoch-0의 train-데이터셋에서 평균 Loss : 1.359, 평균 Accuracy : 0.578\n",
      "현재 epoch-0의 test-데이터셋에서 평균 Loss : 0.465, 평균 Accuracy : 0.864\n",
      "현재 epoch-1의 train-데이터셋에서 평균 Loss : 0.496, 평균 Accuracy : 0.857\n",
      "현재 epoch-1의 test-데이터셋에서 평균 Loss : 0.313, 평균 Accuracy : 0.900\n",
      "현재 epoch-2의 train-데이터셋에서 평균 Loss : 0.309, 평균 Accuracy : 0.909\n",
      "현재 epoch-2의 test-데이터셋에서 평균 Loss : 0.210, 평균 Accuracy : 0.933\n",
      "현재 epoch-3의 train-데이터셋에서 평균 Loss : 0.220, 평균 Accuracy : 0.935\n",
      "현재 epoch-3의 test-데이터셋에서 평균 Loss : 0.167, 평균 Accuracy : 0.949\n",
      "현재 epoch-4의 train-데이터셋에서 평균 Loss : 0.156, 평균 Accuracy : 0.955\n",
      "현재 epoch-4의 test-데이터셋에서 평균 Loss : 0.108, 평균 Accuracy : 0.969\n",
      "학습 종료!\n",
      "best acc : 0.9687830805778503, 최고 낮은 loss : 0.10770782589833572\n"
     ]
    }
   ],
   "source": [
    "best_test_accuracy = 0.\n",
    "best_test_loss = 9999.\n",
    "\n",
    "for epoch in range(NUM_EPOCH):\n",
    "    for phase in [\"train\", \"test\"]:\n",
    "        running_loss = 0.\n",
    "        running_acc = 0.\n",
    "        if phase == \"train\":\n",
    "            se50.train()  # 네트워크 모델을 train 모드로 두어 gradient를 계산하고, 여러 sub module(배치 정규화, 드롭아웃 등)이 train mode로 작동할 수 있도록 함\n",
    "        elif phase == \"test\":\n",
    "            se50.eval()  # 네트워크 모델을 eval 모드로 두어 여러 sub module들이 eval mode로 작동할 수 있게 함\n",
    "        \n",
    "        for ind, (images, labels) in enumerate(dataloaders[phase]):\n",
    "            images = images.to(device)\n",
    "            labels = labels.to(device)\n",
    "            \n",
    "            optimizer.zero_grad()  # parameter gradient 업데이터 전 초기화함\n",
    "            \n",
    "            with torch.set_grad_enabled(phase == \"train\"):  # train 모드 땐 gradient계산, 아닐 땐 gradient계산 안함으로써 연산량 줄임\n",
    "                logits = se50(images)\n",
    "                _, preds = torch.max(logits, 1)  # 모델에서 linear하게 나오는 예측값 리스트에서 최대 output index를 찾아 예측 레이블로 변경함\n",
    "                loss = loss_fn(logits, labels)\n",
    "                \n",
    "                if phase == \"train\":\n",
    "                    loss.backward()  # 모델의 예측 값과 실제 값의 CrossEntropy 차이를 통해 gradient 계산\n",
    "                    optimizer.step()  # 계산된 gradient를 가지고 모델 업데이트\n",
    "            \n",
    "            running_loss += loss.item() * images.size(0) # 한 batch에서의 loss 값 저장\n",
    "            running_acc += torch.sum(preds == labels.data) # 한 batch에서의 acc 값 저장\n",
    "            \n",
    "        # 한 epoch이 모두 종료되었을 때\n",
    "        epoch_loss = running_loss / len(dataloaders[phase].dataset)\n",
    "        epoch_acc = running_acc / len(dataloaders[phase].dataset)\n",
    "        \n",
    "        print(f\"현재 epoch-{epoch}의 {phase}-데이터셋에서 평균 Loss : {epoch_loss:.3f}, 평균 Accuracy : {epoch_acc:.3f}\")\n",
    "        if phase == \"test\" and best_test_accuracy < epoch_acc: # phase가 test일 때, best acc 계산\n",
    "            best_test_accuracy = epoch_acc\n",
    "        if phase == \"test\" and best_test_loss > epoch_loss: # phase가 test일 때 best loss 계산\n",
    "            best_test_loss = epoch_loss\n",
    "\n",
    "print(\"학습 종료!\")\n",
    "print(f\"best acc : {best_test_accuracy}, 최고 낮은 loss : {best_test_loss}\")"
   ]
  },
  {
   "cell_type": "markdown",
   "id": "18346611-e95a-40b5-9403-b63c835bde49",
   "metadata": {},
   "source": [
    "## 검증"
   ]
  },
  {
   "cell_type": "code",
   "execution_count": 32,
   "id": "3eda34c6-1f55-4940-8515-e144b2700fa1",
   "metadata": {},
   "outputs": [],
   "source": [
    "def func_eval(model, data_iter, device):\n",
    "    with torch.no_grad():\n",
    "        n_total, n_correct = 0, 0\n",
    "        model.eval()\n",
    "        for batch_in, batch_out in data_iter:\n",
    "            y_trgt = batch_out.to(device)\n",
    "            model_pred = model.forward(batch_in.to(device))\n",
    "            _, y_pred = torch.max(model_pred, 1)  # 행으로 비교\n",
    "            n_correct += (y_pred == y_trgt).sum().item()\n",
    "            n_total += batch_in.size(0)\n",
    "        val_acc = (n_correct/n_total)\n",
    "        #model_train()\n",
    "    return val_acc"
   ]
  },
  {
   "cell_type": "code",
   "execution_count": 33,
   "id": "edc0fa36-4986-4958-8e97-12e7ab4b88a7",
   "metadata": {},
   "outputs": [
    {
     "data": {
      "text/plain": [
       "0.9687830687830687"
      ]
     },
     "execution_count": 33,
     "metadata": {},
     "output_type": "execute_result"
    }
   ],
   "source": [
    "func_eval(se50, valid_dataloader, device)"
   ]
  },
  {
   "cell_type": "code",
   "execution_count": 34,
   "id": "ea56c8c1-548d-4bc4-9cd5-c2e350a454dc",
   "metadata": {},
   "outputs": [],
   "source": [
    "def check_eval(raw_data, dataloader, model, device):\n",
    "    result = []\n",
    "    with torch.no_grad():\n",
    "        model.eval()\n",
    "        for i, (X,y) in enumerate(dataloader):\n",
    "            model_pred = model.forward(X.to(device))\n",
    "            _, y_pred = torch.max(model_pred, 1)\n",
    "            \n",
    "            result.append([valid.iloc[i]['path'], y_pred.cpu().numpy()[0], y.cpu().numpy()[0]])\n",
    "    result = pd.DataFrame(result, columns=['path', 'pred', 'target'])\n",
    "    return result"
   ]
  },
  {
   "cell_type": "code",
   "execution_count": 35,
   "id": "e7ea5d28-740d-45fc-b6cd-5416eec093fd",
   "metadata": {},
   "outputs": [
    {
     "data": {
      "text/html": [
       "<div>\n",
       "<style scoped>\n",
       "    .dataframe tbody tr th:only-of-type {\n",
       "        vertical-align: middle;\n",
       "    }\n",
       "\n",
       "    .dataframe tbody tr th {\n",
       "        vertical-align: top;\n",
       "    }\n",
       "\n",
       "    .dataframe thead th {\n",
       "        text-align: right;\n",
       "    }\n",
       "</style>\n",
       "<table border=\"1\" class=\"dataframe\">\n",
       "  <thead>\n",
       "    <tr style=\"text-align: right;\">\n",
       "      <th></th>\n",
       "      <th>path</th>\n",
       "      <th>pred</th>\n",
       "      <th>target</th>\n",
       "    </tr>\n",
       "  </thead>\n",
       "  <tbody>\n",
       "    <tr>\n",
       "      <th>0</th>\n",
       "      <td>/opt/ml/input/data/train/images/001151_male_As...</td>\n",
       "      <td>0</td>\n",
       "      <td>0</td>\n",
       "    </tr>\n",
       "    <tr>\n",
       "      <th>1</th>\n",
       "      <td>/opt/ml/input/data/train/images/000741_female_...</td>\n",
       "      <td>4</td>\n",
       "      <td>4</td>\n",
       "    </tr>\n",
       "    <tr>\n",
       "      <th>2</th>\n",
       "      <td>/opt/ml/input/data/train/images/004432_male_As...</td>\n",
       "      <td>3</td>\n",
       "      <td>1</td>\n",
       "    </tr>\n",
       "    <tr>\n",
       "      <th>3</th>\n",
       "      <td>/opt/ml/input/data/train/images/001574_female_...</td>\n",
       "      <td>4</td>\n",
       "      <td>4</td>\n",
       "    </tr>\n",
       "    <tr>\n",
       "      <th>4</th>\n",
       "      <td>/opt/ml/input/data/train/images/004230_female_...</td>\n",
       "      <td>5</td>\n",
       "      <td>5</td>\n",
       "    </tr>\n",
       "    <tr>\n",
       "      <th>...</th>\n",
       "      <td>...</td>\n",
       "      <td>...</td>\n",
       "      <td>...</td>\n",
       "    </tr>\n",
       "    <tr>\n",
       "      <th>3775</th>\n",
       "      <td>/opt/ml/input/data/train/images/001495-1_male_...</td>\n",
       "      <td>6</td>\n",
       "      <td>6</td>\n",
       "    </tr>\n",
       "    <tr>\n",
       "      <th>3776</th>\n",
       "      <td>/opt/ml/input/data/train/images/000041_female_...</td>\n",
       "      <td>16</td>\n",
       "      <td>16</td>\n",
       "    </tr>\n",
       "    <tr>\n",
       "      <th>3777</th>\n",
       "      <td>/opt/ml/input/data/train/images/003892_female_...</td>\n",
       "      <td>10</td>\n",
       "      <td>10</td>\n",
       "    </tr>\n",
       "    <tr>\n",
       "      <th>3778</th>\n",
       "      <td>/opt/ml/input/data/train/images/001538_male_As...</td>\n",
       "      <td>1</td>\n",
       "      <td>1</td>\n",
       "    </tr>\n",
       "    <tr>\n",
       "      <th>3779</th>\n",
       "      <td>/opt/ml/input/data/train/images/001432_male_As...</td>\n",
       "      <td>1</td>\n",
       "      <td>1</td>\n",
       "    </tr>\n",
       "  </tbody>\n",
       "</table>\n",
       "<p>3780 rows × 3 columns</p>\n",
       "</div>"
      ],
      "text/plain": [
       "                                                   path  pred  target\n",
       "0     /opt/ml/input/data/train/images/001151_male_As...     0       0\n",
       "1     /opt/ml/input/data/train/images/000741_female_...     4       4\n",
       "2     /opt/ml/input/data/train/images/004432_male_As...     3       1\n",
       "3     /opt/ml/input/data/train/images/001574_female_...     4       4\n",
       "4     /opt/ml/input/data/train/images/004230_female_...     5       5\n",
       "...                                                 ...   ...     ...\n",
       "3775  /opt/ml/input/data/train/images/001495-1_male_...     6       6\n",
       "3776  /opt/ml/input/data/train/images/000041_female_...    16      16\n",
       "3777  /opt/ml/input/data/train/images/003892_female_...    10      10\n",
       "3778  /opt/ml/input/data/train/images/001538_male_As...     1       1\n",
       "3779  /opt/ml/input/data/train/images/001432_male_As...     1       1\n",
       "\n",
       "[3780 rows x 3 columns]"
      ]
     },
     "execution_count": 35,
     "metadata": {},
     "output_type": "execute_result"
    }
   ],
   "source": [
    "valid_testing_dataloader = DataLoader(valid_dataset, shuffle=False)\n",
    "\n",
    "check_eval_df = check_eval(valid, valid_testing_dataloader, se50, device)\n",
    "check_eval_df"
   ]
  },
  {
   "cell_type": "markdown",
   "id": "887976e0-36a6-4588-9fe3-8cee9a1c5871",
   "metadata": {},
   "source": [
    "* 잘못 예측한 데이터 리스팅"
   ]
  },
  {
   "cell_type": "code",
   "execution_count": 36,
   "id": "cac02f7a-e2a5-4416-80a0-67dfb336f421",
   "metadata": {},
   "outputs": [
    {
     "data": {
      "text/html": [
       "<div>\n",
       "<style scoped>\n",
       "    .dataframe tbody tr th:only-of-type {\n",
       "        vertical-align: middle;\n",
       "    }\n",
       "\n",
       "    .dataframe tbody tr th {\n",
       "        vertical-align: top;\n",
       "    }\n",
       "\n",
       "    .dataframe thead th {\n",
       "        text-align: right;\n",
       "    }\n",
       "</style>\n",
       "<table border=\"1\" class=\"dataframe\">\n",
       "  <thead>\n",
       "    <tr style=\"text-align: right;\">\n",
       "      <th></th>\n",
       "      <th>path</th>\n",
       "      <th>pred</th>\n",
       "      <th>target</th>\n",
       "    </tr>\n",
       "  </thead>\n",
       "  <tbody>\n",
       "    <tr>\n",
       "      <th>0</th>\n",
       "      <td>/opt/ml/input/data/train/images/004432_male_As...</td>\n",
       "      <td>3</td>\n",
       "      <td>1</td>\n",
       "    </tr>\n",
       "    <tr>\n",
       "      <th>1</th>\n",
       "      <td>/opt/ml/input/data/train/images/004432_male_As...</td>\n",
       "      <td>4</td>\n",
       "      <td>1</td>\n",
       "    </tr>\n",
       "    <tr>\n",
       "      <th>2</th>\n",
       "      <td>/opt/ml/input/data/train/images/001099_male_As...</td>\n",
       "      <td>1</td>\n",
       "      <td>0</td>\n",
       "    </tr>\n",
       "    <tr>\n",
       "      <th>3</th>\n",
       "      <td>/opt/ml/input/data/train/images/005435_female_...</td>\n",
       "      <td>13</td>\n",
       "      <td>15</td>\n",
       "    </tr>\n",
       "    <tr>\n",
       "      <th>4</th>\n",
       "      <td>/opt/ml/input/data/train/images/001632_female_...</td>\n",
       "      <td>11</td>\n",
       "      <td>10</td>\n",
       "    </tr>\n",
       "    <tr>\n",
       "      <th>...</th>\n",
       "      <td>...</td>\n",
       "      <td>...</td>\n",
       "      <td>...</td>\n",
       "    </tr>\n",
       "    <tr>\n",
       "      <th>113</th>\n",
       "      <td>/opt/ml/input/data/train/images/001175_male_As...</td>\n",
       "      <td>7</td>\n",
       "      <td>8</td>\n",
       "    </tr>\n",
       "    <tr>\n",
       "      <th>114</th>\n",
       "      <td>/opt/ml/input/data/train/images/003889_female_...</td>\n",
       "      <td>15</td>\n",
       "      <td>16</td>\n",
       "    </tr>\n",
       "    <tr>\n",
       "      <th>115</th>\n",
       "      <td>/opt/ml/input/data/train/images/001095_male_As...</td>\n",
       "      <td>13</td>\n",
       "      <td>12</td>\n",
       "    </tr>\n",
       "    <tr>\n",
       "      <th>116</th>\n",
       "      <td>/opt/ml/input/data/train/images/005508_female_...</td>\n",
       "      <td>5</td>\n",
       "      <td>4</td>\n",
       "    </tr>\n",
       "    <tr>\n",
       "      <th>117</th>\n",
       "      <td>/opt/ml/input/data/train/images/005436_female_...</td>\n",
       "      <td>5</td>\n",
       "      <td>4</td>\n",
       "    </tr>\n",
       "  </tbody>\n",
       "</table>\n",
       "<p>118 rows × 3 columns</p>\n",
       "</div>"
      ],
      "text/plain": [
       "                                                  path  pred  target\n",
       "0    /opt/ml/input/data/train/images/004432_male_As...     3       1\n",
       "1    /opt/ml/input/data/train/images/004432_male_As...     4       1\n",
       "2    /opt/ml/input/data/train/images/001099_male_As...     1       0\n",
       "3    /opt/ml/input/data/train/images/005435_female_...    13      15\n",
       "4    /opt/ml/input/data/train/images/001632_female_...    11      10\n",
       "..                                                 ...   ...     ...\n",
       "113  /opt/ml/input/data/train/images/001175_male_As...     7       8\n",
       "114  /opt/ml/input/data/train/images/003889_female_...    15      16\n",
       "115  /opt/ml/input/data/train/images/001095_male_As...    13      12\n",
       "116  /opt/ml/input/data/train/images/005508_female_...     5       4\n",
       "117  /opt/ml/input/data/train/images/005436_female_...     5       4\n",
       "\n",
       "[118 rows x 3 columns]"
      ]
     },
     "execution_count": 36,
     "metadata": {},
     "output_type": "execute_result"
    }
   ],
   "source": [
    "wrong_df = check_eval_df[check_eval_df['pred'] != check_eval_df['target']]\n",
    "wrong_df = wrong_df.reset_index(drop=True)\n",
    "wrong_df"
   ]
  },
  {
   "cell_type": "markdown",
   "id": "c0a56e89-e4b6-4537-ae5a-4de3aaca4c34",
   "metadata": {},
   "source": [
    "## f1 score 측정"
   ]
  },
  {
   "cell_type": "code",
   "execution_count": 39,
   "id": "bfc404f4-e03d-4423-8133-e087b13b9dfa",
   "metadata": {},
   "outputs": [
    {
     "name": "stdout",
     "output_type": "stream",
     "text": [
      "Requirement already satisfied: seaborn in /opt/conda/lib/python3.8/site-packages (0.11.2)\n",
      "Requirement already satisfied: matplotlib>=2.2 in /opt/conda/lib/python3.8/site-packages (from seaborn) (3.2.1)\n",
      "Requirement already satisfied: pandas>=0.23 in /opt/conda/lib/python3.8/site-packages (from seaborn) (1.1.5)\n",
      "Requirement already satisfied: scipy>=1.0 in /opt/conda/lib/python3.8/site-packages (from seaborn) (1.7.1)\n",
      "Requirement already satisfied: numpy>=1.15 in /opt/conda/lib/python3.8/site-packages (from seaborn) (1.19.2)\n",
      "Requirement already satisfied: pyparsing!=2.0.4,!=2.1.2,!=2.1.6,>=2.0.1 in /opt/conda/lib/python3.8/site-packages (from matplotlib>=2.2->seaborn) (2.4.7)\n",
      "Requirement already satisfied: python-dateutil>=2.1 in /opt/conda/lib/python3.8/site-packages (from matplotlib>=2.2->seaborn) (2.8.2)\n",
      "Requirement already satisfied: cycler>=0.10 in /opt/conda/lib/python3.8/site-packages (from matplotlib>=2.2->seaborn) (0.10.0)\n",
      "Requirement already satisfied: kiwisolver>=1.0.1 in /opt/conda/lib/python3.8/site-packages (from matplotlib>=2.2->seaborn) (1.3.1)\n",
      "Requirement already satisfied: pytz>=2017.2 in /opt/conda/lib/python3.8/site-packages (from pandas>=0.23->seaborn) (2020.5)\n",
      "Requirement already satisfied: six>=1.5 in /opt/conda/lib/python3.8/site-packages (from python-dateutil>=2.1->matplotlib>=2.2->seaborn) (1.15.0)\n"
     ]
    }
   ],
   "source": [
    "# !pip install seaborn"
   ]
  },
  {
   "cell_type": "code",
   "execution_count": 40,
   "id": "b7b875ad-5a18-4e26-8cca-a23c4fab8afd",
   "metadata": {},
   "outputs": [],
   "source": [
    "import seaborn as sns\n",
    "import matplotlib.pyplot as plt\n",
    "from sklearn.metrics import accuracy_score, recall_score, precision_score, f1_score, confusion_matrix, classification_report"
   ]
  },
  {
   "cell_type": "markdown",
   "id": "60023d2a-c3cd-47ef-8079-63815a1bfc50",
   "metadata": {},
   "source": [
    "### 함수 정의\n",
    "\n",
    "> precision, recall, f1-score, confusion matrix 출력"
   ]
  },
  {
   "cell_type": "code",
   "execution_count": 41,
   "id": "3bf51cc9-fe8e-49e2-8dcf-5ecd78f5632b",
   "metadata": {},
   "outputs": [],
   "source": [
    "def report():\n",
    "    y_test, y_pred = check_eval_df['target'], check_eval_df['pred']\n",
    "    print(classification_report(y_test, y_pred))\n",
    "    print('seresnet50 Accuracy:', np.mean(y_pred == y_test))\n",
    "    ax = plt.figure(figsize=(10, 5))\n",
    "    sns.heatmap(confusion_matrix(y_test, y_pred), linewidths=0.5, fmt='.1f', annot=True)"
   ]
  },
  {
   "cell_type": "code",
   "execution_count": 42,
   "id": "fd798dcc-519b-4138-9899-0593ca20dd31",
   "metadata": {},
   "outputs": [
    {
     "name": "stdout",
     "output_type": "stream",
     "text": [
      "              precision    recall  f1-score   support\n",
      "\n",
      "           0       0.99      0.98      0.99       549\n",
      "           1       0.96      0.99      0.97       410\n",
      "           2       1.00      0.89      0.94        83\n",
      "           3       0.98      1.00      0.99       732\n",
      "           4       0.99      0.97      0.98       817\n",
      "           5       0.84      0.99      0.91       109\n",
      "           6       0.94      0.97      0.96       110\n",
      "           7       0.91      0.99      0.95        82\n",
      "           8       0.94      0.88      0.91        17\n",
      "           9       0.99      0.95      0.97       146\n",
      "          10       0.99      0.97      0.98       163\n",
      "          11       0.90      0.86      0.88        22\n",
      "          12       1.00      0.93      0.96       110\n",
      "          13       0.79      1.00      0.88        82\n",
      "          14       1.00      0.88      0.94        17\n",
      "          15       0.98      0.92      0.95       146\n",
      "          16       0.94      0.90      0.92       163\n",
      "          17       0.83      0.91      0.87        22\n",
      "\n",
      "    accuracy                           0.97      3780\n",
      "   macro avg       0.94      0.94      0.94      3780\n",
      "weighted avg       0.97      0.97      0.97      3780\n",
      "\n",
      "seresnet50 Accuracy: 0.9687830687830687\n"
     ]
    },
    {
     "data": {
      "image/png": "[encoded data removed]",
      "text/plain": [
       "<Figure size 720x360 with 2 Axes>"
      ]
     },
     "metadata": {
      "needs_background": "light"
     },
     "output_type": "display_data"
    }
   ],
   "source": [
    "report()"
   ]
  },
  {
   "cell_type": "markdown",
   "id": "48ce0b24-3948-4c34-b8c9-3b16aad1ce3e",
   "metadata": {},
   "source": [
    "## submission"
   ]
  },
  {
   "cell_type": "code",
   "execution_count": 44,
   "id": "9b643c29-3b71-4452-a29e-4db9a271ab8d",
   "metadata": {},
   "outputs": [],
   "source": [
    "class TestDataset(Dataset):\n",
    "    def __init__(self, img_paths, transform):\n",
    "        self.img_paths = img_paths\n",
    "        self.transform = transform\n",
    "\n",
    "    def __getitem__(self, index):\n",
    "        image = Image.open(self.img_paths[index])\n",
    "\n",
    "        if self.transform:\n",
    "            image = self.transform(image)\n",
    "        return image\n",
    "\n",
    "    def __len__(self):\n",
    "        return len(self.img_paths)"
   ]
  },
  {
   "cell_type": "code",
   "execution_count": 45,
   "id": "5fa0de15-a49c-4b6c-ac4f-73974ff1ea2a",
   "metadata": {},
   "outputs": [
    {
     "name": "stdout",
     "output_type": "stream",
     "text": [
      "test inference is done!\n"
     ]
    }
   ],
   "source": [
    "# 테스트 데이터셋 폴더 경로를 지정해주세요.\n",
    "test_dir = '/opt/ml/input/data/eval'\n",
    "\n",
    "# meta 데이터와 이미지 경로를 불러옵니다.\n",
    "submission = pd.read_csv(os.path.join(test_dir, 'info.csv'))\n",
    "image_dir = os.path.join(test_dir, 'images')\n",
    "\n",
    "# Test Dataset 클래스 객체를 생성하고 DataLoader를 만듭니다.\n",
    "image_paths = [os.path.join(image_dir, img_id) for img_id in submission.ImageID]\n",
    "transform = transforms.Compose([\n",
    "    Resize((512, 384), Image.BILINEAR),\n",
    "    ToTensor(),\n",
    "    Normalize(mean=(0.5, 0.5, 0.5), std=(0.2, 0.2, 0.2)),\n",
    "])\n",
    "\n",
    "dataset = TestDataset(image_paths, transform)\n",
    "\n",
    "loader = DataLoader(\n",
    "    dataset,\n",
    "    shuffle=False\n",
    ")\n",
    "\n",
    "# 모델을 정의합니다. (학습한 모델이 있다면 torch.load로 모델을 불러주세요!)\n",
    "device = torch.device('cuda')\n",
    "model = se50.to(device)\n",
    "model.eval()\n",
    "\n",
    "# 모델이 테스트 데이터셋을 예측하고 결과를 저장합니다.\n",
    "all_predictions = []\n",
    "for images in loader:\n",
    "    with torch.no_grad():\n",
    "        images = images.to(device)\n",
    "        pred = model(images)\n",
    "        pred = pred.argmax(dim=-1)\n",
    "        all_predictions.extend(pred.cpu().numpy())\n",
    "submission['ans'] = all_predictions\n",
    "\n",
    "# 제출할 파일을 저장합니다.\n",
    "submission.to_csv(os.path.join(test_dir, 'submission10-se50-dropout7-bs32.csv'), index=False)\n",
    "print('test inference is done!')"
   ]
  },
  {
   "cell_type": "markdown",
   "id": "87bcf204-65c0-414c-9371-4b2aaa8df1cd",
   "metadata": {
    "pycharm": {
     "name": "#%% md\n"
    }
   },
   "source": [
    "## 결과\n",
    "\n",
    "* 실제 제출 시 성능 차이 매우 큼.\n",
    "    * 검증 시 f1 score: 0.94\n",
    "    * 제출 시 f1 score: 0.54\n"
   ]
  }
 ],
 "metadata": {
  "kernelspec": {
   "display_name": "Python 3 (ipykernel)",
   "language": "python",
   "name": "python3"
  },
  "language_info": {
   "codemirror_mode": {
    "name": "ipython",
    "version": 3
   },
   "file_extension": ".py",
   "mimetype": "text/x-python",
   "name": "python",
   "nbconvert_exporter": "python",
   "pygments_lexer": "ipython3",
   "version": "3.8.5"
  }
 },
 "nbformat": 4,
 "nbformat_minor": 5
}