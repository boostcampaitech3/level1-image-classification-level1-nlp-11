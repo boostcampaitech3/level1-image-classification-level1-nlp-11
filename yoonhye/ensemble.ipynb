{
 "cells": [
  {
   "cell_type": "markdown",
   "id": "6317a686-b5fd-4b09-9c40-3254a0b7f6e1",
   "metadata": {},
   "source": [
    "# Ensemble\n",
    "* Stacking\n",
    "    1) BaseDataset\n",
    "    2) MSBPDataset\n",
    "    3) MyAugmentDataset (CenterCrop)\n",
    "* Soft Voting & Hard Voting: 코드 미완\n"
   ]
  },
  {
   "cell_type": "code",
   "execution_count": 1,
   "id": "cf770a9f-93b0-4f15-938f-9ce9f2347f4a",
   "metadata": {},
   "outputs": [
    {
     "name": "stderr",
     "output_type": "stream",
     "text": [
      "<frozen importlib._bootstrap>:219: RuntimeWarning: scipy._lib.messagestream.MessageStream size changed, may indicate binary incompatibility. Expected 56 from C header, got 64 from PyObject\n"
     ]
    }
   ],
   "source": [
    "%matplotlib inline\n",
    "import numpy as np\n",
    "import pandas as pd\n",
    "import matplotlib.pyplot as plt\n",
    "import seaborn as sns\n",
    "from PIL import Image\n",
    "import glob"
   ]
  },
  {
   "cell_type": "markdown",
   "id": "fda017d8-27d9-4fe8-b664-d057a135d4dd",
   "metadata": {},
   "source": [
    "## 무지성 가보자고"
   ]
  },
  {
   "cell_type": "markdown",
   "id": "587cca6a-7944-4a32-8c61-8af8391a7ad3",
   "metadata": {},
   "source": [
    "* dataset별로 stacking 후 다시 hard voting?"
   ]
  },
  {
   "cell_type": "markdown",
   "id": "36e70fdd-9265-4a5e-9a88-52d562e7ca5d",
   "metadata": {},
   "source": [
    "### 1. BaseDataset - stacking"
   ]
  },
  {
   "cell_type": "markdown",
   "id": "aebf2a87-8568-49c0-ac10-075225840a1b",
   "metadata": {},
   "source": [
    "* val_set을 통해 학습"
   ]
  },
  {
   "cell_type": "code",
   "execution_count": 72,
   "id": "bad88a03-12ae-4de6-a130-20826503c0c8",
   "metadata": {},
   "outputs": [
    {
     "name": "stdout",
     "output_type": "stream",
     "text": [
      "['baseline/train_output/resnet18_e30.csv', 'baseline/train_output/densenet_e30.csv']\n"
     ]
    }
   ],
   "source": [
    "outputs = glob.glob('baseline/train_output/*')\n",
    "outputs = [file for file in outputs if not file.endswith(\"msbp.csv\")]\n",
    "print(outputs)"
   ]
  },
  {
   "cell_type": "code",
   "execution_count": 73,
   "id": "4161625d-9c78-4af0-9355-ce53006d01eb",
   "metadata": {},
   "outputs": [
    {
     "data": {
      "text/plain": [
       "3001"
      ]
     },
     "execution_count": 73,
     "metadata": {},
     "output_type": "execute_result"
    }
   ],
   "source": [
    "df = pd.read_csv(outputs[0], names=['label','pred'])\n",
    "len(df)"
   ]
  },
  {
   "cell_type": "code",
   "execution_count": 8,
   "id": "c18facce-5a26-4a57-9ec8-b301ea9be3ab",
   "metadata": {},
   "outputs": [],
   "source": [
    "# 각 모델의 decision 합치기 => new_input\n",
    "def create_new_data(outputs):\n",
    "    new_input = []\n",
    "    for output in outputs:\n",
    "        df = pd.read_csv(output, names=['label','pred'])\n",
    "        new_input.append(list(df['pred']))\n",
    "    new_input = np.transpose(new_input)\n",
    "    return new_input"
   ]
  },
  {
   "cell_type": "code",
   "execution_count": 74,
   "id": "66922177-15aa-474d-a086-7bcc06b775f4",
   "metadata": {},
   "outputs": [
    {
     "data": {
      "text/plain": [
       "(3001, 2)"
      ]
     },
     "execution_count": 74,
     "metadata": {},
     "output_type": "execute_result"
    }
   ],
   "source": [
    "base_new_input = create_new_data(outputs)\n",
    "base_new_input.shape"
   ]
  },
  {
   "cell_type": "code",
   "execution_count": 75,
   "id": "c0fc34e1-d0cb-4af4-b974-87b66d2032dd",
   "metadata": {},
   "outputs": [
    {
     "data": {
      "text/plain": [
       "array([[ 1,  1],\n",
       "       [16, 16],\n",
       "       [ 3,  3],\n",
       "       [10,  4],\n",
       "       [16, 16],\n",
       "       [15, 15],\n",
       "       [ 3,  3],\n",
       "       [ 3,  3],\n",
       "       [ 5,  4],\n",
       "       [ 1,  1]])"
      ]
     },
     "execution_count": 75,
     "metadata": {},
     "output_type": "execute_result"
    }
   ],
   "source": [
    "base_new_input[:10]"
   ]
  },
  {
   "cell_type": "code",
   "execution_count": 12,
   "id": "da92bf84-1d93-4be4-9971-112c3ad25863",
   "metadata": {},
   "outputs": [
    {
     "name": "stdout",
     "output_type": "stream",
     "text": [
      "[ 0 16  3 ... 12  1  0]\n"
     ]
    }
   ],
   "source": [
    "df = pd.read_csv(outputs[0], names=['label','pred'])\n",
    "labels = np.array(df['label'])\n",
    "print(labels)"
   ]
  },
  {
   "cell_type": "code",
   "execution_count": 13,
   "id": "6d7b029a-22f0-42ad-a24e-bdd10fa2fc90",
   "metadata": {},
   "outputs": [
    {
     "name": "stdout",
     "output_type": "stream",
     "text": [
      "0.8247250916361213\n"
     ]
    }
   ],
   "source": [
    "from lightgbm import LGBMClassifier\n",
    "from sklearn.metrics import accuracy_score\n",
    "\n",
    "base_lgbm = LGBMClassifier()\n",
    "\n",
    "base_lgbm.fit(base_new_input, labels)\n",
    "lgbm_pred = base_lgbm.predict(base_new_input)\n",
    "\n",
    "print(accuracy_score(labels, lgbm_pred))"
   ]
  },
  {
   "cell_type": "code",
   "execution_count": 14,
   "id": "56d67f79-2a2b-48b0-8fd5-e92af8163365",
   "metadata": {},
   "outputs": [],
   "source": [
    "def print_acc(outputs, labels):\n",
    "    for model in outputs:\n",
    "        model_name = model.split('/')[-1].split('.')[0]\n",
    "        df = pd.read_csv(model, names=['label','pred'])\n",
    "        pred = np.array(df['pred'])\n",
    "        print(f'{model_name} 정확도:', accuracy_score(labels, pred))"
   ]
  },
  {
   "cell_type": "code",
   "execution_count": 15,
   "id": "2152755c-dafd-45dc-bed7-a7174d0073e4",
   "metadata": {},
   "outputs": [
    {
     "name": "stdout",
     "output_type": "stream",
     "text": [
      "resnet18_e30 정확도: 0.696434521826058\n",
      "densenet_e30 정확도: 0.7910696434521826\n"
     ]
    }
   ],
   "source": [
    "print_acc(outputs, labels)"
   ]
  },
  {
   "cell_type": "markdown",
   "id": "cbd7da95-c7b2-4e4d-964f-7d9165f17cc7",
   "metadata": {},
   "source": [
    "* inference - base_lgbm의 inference"
   ]
  },
  {
   "cell_type": "code",
   "execution_count": 16,
   "id": "4cda49f6-7df9-40e8-a4e2-b5022bd8ea34",
   "metadata": {},
   "outputs": [],
   "source": [
    "# 같은 이름(모델)의 inference 결과 path 가져오기\n",
    "def path2inf(outputs):\n",
    "    inf_outputs = []\n",
    "    for model in outputs:\n",
    "        model_name = model.split('/')[-1].split('.')[0]\n",
    "        inf_outputs.append('baseline/output/'+model_name+'.csv')\n",
    "    return inf_outputs"
   ]
  },
  {
   "cell_type": "code",
   "execution_count": 46,
   "id": "e16b9383-8239-4e6e-9363-0e63e4326746",
   "metadata": {},
   "outputs": [
    {
     "name": "stdout",
     "output_type": "stream",
     "text": [
      "['baseline/output/resnet18_e30.csv', 'baseline/output/densenet_e30.csv']\n"
     ]
    }
   ],
   "source": [
    "inf_outputs = path2inf(outputs)\n",
    "print(inf_outputs)"
   ]
  },
  {
   "cell_type": "code",
   "execution_count": 18,
   "id": "803fcbb3-05c5-4837-9190-08f6c7f32a52",
   "metadata": {},
   "outputs": [
    {
     "data": {
      "text/html": [
       "<div>\n",
       "<style scoped>\n",
       "    .dataframe tbody tr th:only-of-type {\n",
       "        vertical-align: middle;\n",
       "    }\n",
       "\n",
       "    .dataframe tbody tr th {\n",
       "        vertical-align: top;\n",
       "    }\n",
       "\n",
       "    .dataframe thead th {\n",
       "        text-align: right;\n",
       "    }\n",
       "</style>\n",
       "<table border=\"1\" class=\"dataframe\">\n",
       "  <thead>\n",
       "    <tr style=\"text-align: right;\">\n",
       "      <th></th>\n",
       "      <th>ImageID</th>\n",
       "      <th>ans</th>\n",
       "    </tr>\n",
       "  </thead>\n",
       "  <tbody>\n",
       "    <tr>\n",
       "      <th>0</th>\n",
       "      <td>cbc5c6e168e63498590db46022617123f1fe1268.jpg</td>\n",
       "      <td>13</td>\n",
       "    </tr>\n",
       "    <tr>\n",
       "      <th>1</th>\n",
       "      <td>0e72482bf56b3581c081f7da2a6180b8792c7089.jpg</td>\n",
       "      <td>1</td>\n",
       "    </tr>\n",
       "    <tr>\n",
       "      <th>2</th>\n",
       "      <td>b549040c49190cedc41327748aeb197c1670f14d.jpg</td>\n",
       "      <td>6</td>\n",
       "    </tr>\n",
       "    <tr>\n",
       "      <th>3</th>\n",
       "      <td>4f9cb2a045c6d5b9e50ad3459ea7b791eb6e18bc.jpg</td>\n",
       "      <td>13</td>\n",
       "    </tr>\n",
       "    <tr>\n",
       "      <th>4</th>\n",
       "      <td>248428d9a4a5b6229a7081c32851b90cb8d38d0c.jpg</td>\n",
       "      <td>12</td>\n",
       "    </tr>\n",
       "  </tbody>\n",
       "</table>\n",
       "</div>"
      ],
      "text/plain": [
       "                                        ImageID  ans\n",
       "0  cbc5c6e168e63498590db46022617123f1fe1268.jpg   13\n",
       "1  0e72482bf56b3581c081f7da2a6180b8792c7089.jpg    1\n",
       "2  b549040c49190cedc41327748aeb197c1670f14d.jpg    6\n",
       "3  4f9cb2a045c6d5b9e50ad3459ea7b791eb6e18bc.jpg   13\n",
       "4  248428d9a4a5b6229a7081c32851b90cb8d38d0c.jpg   12"
      ]
     },
     "execution_count": 18,
     "metadata": {},
     "output_type": "execute_result"
    }
   ],
   "source": [
    "df = pd.read_csv(inf_outputs[0])\n",
    "df.head()"
   ]
  },
  {
   "cell_type": "code",
   "execution_count": 19,
   "id": "1d40a86e-47e5-4f21-96ca-ef6eb38173af",
   "metadata": {},
   "outputs": [],
   "source": [
    "def create_inf_data(outputs):\n",
    "    new_input = []\n",
    "    for output in outputs:\n",
    "        df = pd.read_csv(output)\n",
    "        new_input.append(list(df['ans']))\n",
    "    new_input = np.transpose(new_input)\n",
    "    return new_input"
   ]
  },
  {
   "cell_type": "code",
   "execution_count": 47,
   "id": "5c4efe58-e4bc-4105-b998-f0bafbfb067e",
   "metadata": {},
   "outputs": [
    {
     "data": {
      "text/plain": [
       "(12600, 2)"
      ]
     },
     "execution_count": 47,
     "metadata": {},
     "output_type": "execute_result"
    }
   ],
   "source": [
    "base_inf_input = create_inf_data(inf_outputs)\n",
    "base_inf_input.shape"
   ]
  },
  {
   "cell_type": "code",
   "execution_count": 48,
   "id": "36dfef28-8610-467f-98a7-67ccb378640f",
   "metadata": {},
   "outputs": [
    {
     "data": {
      "text/plain": [
       "array([[13, 13],\n",
       "       [ 1,  5],\n",
       "       [ 6, 13],\n",
       "       [13, 13],\n",
       "       [12, 12],\n",
       "       [ 0,  0],\n",
       "       [ 1,  1],\n",
       "       [10,  4],\n",
       "       [ 4,  1],\n",
       "       [ 3,  3]])"
      ]
     },
     "execution_count": 48,
     "metadata": {},
     "output_type": "execute_result"
    }
   ],
   "source": [
    "base_inf_input[:10]"
   ]
  },
  {
   "cell_type": "code",
   "execution_count": 22,
   "id": "f0efa242-1136-4e0c-94eb-23d71068c329",
   "metadata": {},
   "outputs": [],
   "source": [
    "base_lgbm_inf = base_lgbm.predict(base_inf_input)"
   ]
  },
  {
   "cell_type": "code",
   "execution_count": 24,
   "id": "8979bc39-3bac-469b-9af8-19c3555be31c",
   "metadata": {},
   "outputs": [
    {
     "data": {
      "text/html": [
       "<div>\n",
       "<style scoped>\n",
       "    .dataframe tbody tr th:only-of-type {\n",
       "        vertical-align: middle;\n",
       "    }\n",
       "\n",
       "    .dataframe tbody tr th {\n",
       "        vertical-align: top;\n",
       "    }\n",
       "\n",
       "    .dataframe thead th {\n",
       "        text-align: right;\n",
       "    }\n",
       "</style>\n",
       "<table border=\"1\" class=\"dataframe\">\n",
       "  <thead>\n",
       "    <tr style=\"text-align: right;\">\n",
       "      <th></th>\n",
       "      <th>ImageID</th>\n",
       "      <th>ans</th>\n",
       "    </tr>\n",
       "  </thead>\n",
       "  <tbody>\n",
       "    <tr>\n",
       "      <th>0</th>\n",
       "      <td>cbc5c6e168e63498590db46022617123f1fe1268.jpg</td>\n",
       "      <td>13</td>\n",
       "    </tr>\n",
       "    <tr>\n",
       "      <th>1</th>\n",
       "      <td>0e72482bf56b3581c081f7da2a6180b8792c7089.jpg</td>\n",
       "      <td>1</td>\n",
       "    </tr>\n",
       "    <tr>\n",
       "      <th>2</th>\n",
       "      <td>b549040c49190cedc41327748aeb197c1670f14d.jpg</td>\n",
       "      <td>13</td>\n",
       "    </tr>\n",
       "    <tr>\n",
       "      <th>3</th>\n",
       "      <td>4f9cb2a045c6d5b9e50ad3459ea7b791eb6e18bc.jpg</td>\n",
       "      <td>13</td>\n",
       "    </tr>\n",
       "    <tr>\n",
       "      <th>4</th>\n",
       "      <td>248428d9a4a5b6229a7081c32851b90cb8d38d0c.jpg</td>\n",
       "      <td>12</td>\n",
       "    </tr>\n",
       "  </tbody>\n",
       "</table>\n",
       "</div>"
      ],
      "text/plain": [
       "                                        ImageID  ans\n",
       "0  cbc5c6e168e63498590db46022617123f1fe1268.jpg   13\n",
       "1  0e72482bf56b3581c081f7da2a6180b8792c7089.jpg    1\n",
       "2  b549040c49190cedc41327748aeb197c1670f14d.jpg   13\n",
       "3  4f9cb2a045c6d5b9e50ad3459ea7b791eb6e18bc.jpg   13\n",
       "4  248428d9a4a5b6229a7081c32851b90cb8d38d0c.jpg   12"
      ]
     },
     "execution_count": 24,
     "metadata": {},
     "output_type": "execute_result"
    }
   ],
   "source": [
    "# basedataset으로만 구한 결과 csv\n",
    "base_info = pd.read_csv('input/data/eval/info.csv')\n",
    "base_info['ans'] = base_lgbm_inf\n",
    "base_info.head()"
   ]
  },
  {
   "cell_type": "code",
   "execution_count": 125,
   "id": "6fc9a39d-8342-4c0e-8a5a-6203252b4966",
   "metadata": {},
   "outputs": [],
   "source": [
    "base_info.to_csv('base_info.csv', index=False)"
   ]
  },
  {
   "cell_type": "markdown",
   "id": "a5914bef-06d1-4bc6-a914-2f376c6ce03d",
   "metadata": {},
   "source": [
    "### 2) MSBP - stacking"
   ]
  },
  {
   "cell_type": "markdown",
   "id": "cd4ce194-a8c1-486e-bb4c-f618e32b519d",
   "metadata": {},
   "source": [
    "* 학습"
   ]
  },
  {
   "cell_type": "code",
   "execution_count": 76,
   "id": "35f8d05f-0c63-4f77-bad8-dd239cb75699",
   "metadata": {},
   "outputs": [
    {
     "name": "stdout",
     "output_type": "stream",
     "text": [
      "['baseline/train_output/densenet_e30_msbp.csv', 'baseline/train_output/resnet_e30_msbp.csv', 'baseline/train_output/resnet_e30_adam_msbp.csv']\n"
     ]
    }
   ],
   "source": [
    "outputs = glob.glob('baseline/train_output/*')\n",
    "outputs = [file for file in outputs if file.endswith(\"msbp.csv\")]\n",
    "print(outputs)"
   ]
  },
  {
   "cell_type": "code",
   "execution_count": 77,
   "id": "a20cc36c-cbd6-4d72-9312-f77c92707b6e",
   "metadata": {},
   "outputs": [
    {
     "data": {
      "text/html": [
       "<div>\n",
       "<style scoped>\n",
       "    .dataframe tbody tr th:only-of-type {\n",
       "        vertical-align: middle;\n",
       "    }\n",
       "\n",
       "    .dataframe tbody tr th {\n",
       "        vertical-align: top;\n",
       "    }\n",
       "\n",
       "    .dataframe thead th {\n",
       "        text-align: right;\n",
       "    }\n",
       "</style>\n",
       "<table border=\"1\" class=\"dataframe\">\n",
       "  <thead>\n",
       "    <tr style=\"text-align: right;\">\n",
       "      <th></th>\n",
       "      <th>label</th>\n",
       "      <th>pred</th>\n",
       "    </tr>\n",
       "  </thead>\n",
       "  <tbody>\n",
       "    <tr>\n",
       "      <th>0</th>\n",
       "      <td>0</td>\n",
       "      <td>1</td>\n",
       "    </tr>\n",
       "    <tr>\n",
       "      <th>1</th>\n",
       "      <td>0</td>\n",
       "      <td>0</td>\n",
       "    </tr>\n",
       "    <tr>\n",
       "      <th>2</th>\n",
       "      <td>12</td>\n",
       "      <td>12</td>\n",
       "    </tr>\n",
       "    <tr>\n",
       "      <th>3</th>\n",
       "      <td>0</td>\n",
       "      <td>0</td>\n",
       "    </tr>\n",
       "    <tr>\n",
       "      <th>4</th>\n",
       "      <td>0</td>\n",
       "      <td>0</td>\n",
       "    </tr>\n",
       "  </tbody>\n",
       "</table>\n",
       "</div>"
      ],
      "text/plain": [
       "   label  pred\n",
       "0      0     1\n",
       "1      0     0\n",
       "2     12    12\n",
       "3      0     0\n",
       "4      0     0"
      ]
     },
     "execution_count": 77,
     "metadata": {},
     "output_type": "execute_result"
    }
   ],
   "source": [
    "df = pd.read_csv(outputs[0], names=['label','pred'])\n",
    "df.head()"
   ]
  },
  {
   "cell_type": "code",
   "execution_count": 79,
   "id": "a10e0107-93fd-47e3-971f-fb7b0c27ea48",
   "metadata": {},
   "outputs": [
    {
     "data": {
      "text/plain": [
       "(3001, 3)"
      ]
     },
     "execution_count": 79,
     "metadata": {},
     "output_type": "execute_result"
    }
   ],
   "source": [
    "msbp_new_input = create_new_data(outputs)\n",
    "msbp_new_input.shape"
   ]
  },
  {
   "cell_type": "code",
   "execution_count": 80,
   "id": "f9628d30-b61a-4d55-94d6-5b051393c13f",
   "metadata": {},
   "outputs": [
    {
     "data": {
      "text/plain": [
       "array([[ 1,  1,  1],\n",
       "       [ 0,  0,  0],\n",
       "       [12, 12,  0],\n",
       "       [ 0,  0,  0],\n",
       "       [ 0,  0,  0],\n",
       "       [ 0,  0,  0],\n",
       "       [ 0,  0,  0],\n",
       "       [ 6,  0,  0],\n",
       "       [ 6,  0,  0],\n",
       "       [ 0,  0,  7]])"
      ]
     },
     "execution_count": 80,
     "metadata": {},
     "output_type": "execute_result"
    }
   ],
   "source": [
    "msbp_new_input[:10]"
   ]
  },
  {
   "cell_type": "code",
   "execution_count": 29,
   "id": "f30e20fa-3243-438d-a508-e4136a26da49",
   "metadata": {},
   "outputs": [
    {
     "name": "stdout",
     "output_type": "stream",
     "text": [
      "[ 0  0 12 ...  1  1  1]\n"
     ]
    }
   ],
   "source": [
    "df = pd.read_csv(outputs[0], names=['label','pred'])\n",
    "labels = np.array(df['label'])\n",
    "print(labels)"
   ]
  },
  {
   "cell_type": "code",
   "execution_count": 33,
   "id": "baae6329-0ce0-4761-9641-afca3f619d69",
   "metadata": {},
   "outputs": [
    {
     "name": "stdout",
     "output_type": "stream",
     "text": [
      "0.8153948683772076\n"
     ]
    }
   ],
   "source": [
    "msbp_lgbm = LGBMClassifier()\n",
    "\n",
    "msbp_lgbm.fit(msbp_new_input, labels)\n",
    "msbp_lgbm_pred = msbp_lgbm.predict(msbp_new_input)\n",
    "\n",
    "print(accuracy_score(labels, msbp_lgbm_pred))"
   ]
  },
  {
   "cell_type": "code",
   "execution_count": 34,
   "id": "c8611d9c-0e5e-404d-81d1-547011dee77d",
   "metadata": {},
   "outputs": [
    {
     "name": "stdout",
     "output_type": "stream",
     "text": [
      "densenet_e30_msbp 정확도: 0.7560813062312562\n",
      "resnet_e30_msbp 정확도: 0.639786737754082\n",
      "resnet_e30_adam_msbp 정확도: 0.24025324891702765\n"
     ]
    }
   ],
   "source": [
    "print_acc(outputs, labels)"
   ]
  },
  {
   "cell_type": "markdown",
   "id": "cd3349a5-e108-4dc1-a673-077adf2259f1",
   "metadata": {},
   "source": [
    "* msbp_lgbm의 inference"
   ]
  },
  {
   "cell_type": "code",
   "execution_count": 50,
   "id": "2c9fb067-37f8-4d63-aa3a-02acac180d32",
   "metadata": {},
   "outputs": [
    {
     "name": "stdout",
     "output_type": "stream",
     "text": [
      "['baseline/output/densenet_e30_msbp.csv', 'baseline/output/resnet_e30_msbp.csv', 'baseline/output/resnet_e30_adam_msbp.csv']\n"
     ]
    }
   ],
   "source": [
    "inf_outputs = path2inf(outputs)\n",
    "print(inf_outputs)"
   ]
  },
  {
   "cell_type": "code",
   "execution_count": 52,
   "id": "f8be497f-6f10-46ad-bb7b-b9e33775fa56",
   "metadata": {},
   "outputs": [
    {
     "data": {
      "text/plain": [
       "(12600, 3)"
      ]
     },
     "execution_count": 52,
     "metadata": {},
     "output_type": "execute_result"
    }
   ],
   "source": [
    "msbp_inf_input = create_inf_data(inf_outputs)\n",
    "msbp_inf_input.shape"
   ]
  },
  {
   "cell_type": "code",
   "execution_count": 53,
   "id": "04b29468-2db6-4f5f-b6e6-0f2371886f99",
   "metadata": {},
   "outputs": [
    {
     "data": {
      "text/plain": [
       "array([[13, 13,  0],\n",
       "       [ 5,  1,  3],\n",
       "       [13, 13,  1],\n",
       "       [13, 13, 13],\n",
       "       [12, 16,  0],\n",
       "       [ 0,  1,  0],\n",
       "       [ 2,  1,  7],\n",
       "       [ 3,  4,  1],\n",
       "       [ 4,  4,  4],\n",
       "       [ 3,  3,  3]])"
      ]
     },
     "execution_count": 53,
     "metadata": {},
     "output_type": "execute_result"
    }
   ],
   "source": [
    "msbp_inf_input[:10]"
   ]
  },
  {
   "cell_type": "code",
   "execution_count": 41,
   "id": "1a6fe82d-4605-4c54-8d8c-526171d1fe28",
   "metadata": {},
   "outputs": [],
   "source": [
    "msbp_lgbm_inf = msbp_lgbm.predict(msbp_inf_input)"
   ]
  },
  {
   "cell_type": "code",
   "execution_count": 42,
   "id": "dda8b503-8da4-4982-9cff-498805ab1dc5",
   "metadata": {},
   "outputs": [
    {
     "data": {
      "text/html": [
       "<div>\n",
       "<style scoped>\n",
       "    .dataframe tbody tr th:only-of-type {\n",
       "        vertical-align: middle;\n",
       "    }\n",
       "\n",
       "    .dataframe tbody tr th {\n",
       "        vertical-align: top;\n",
       "    }\n",
       "\n",
       "    .dataframe thead th {\n",
       "        text-align: right;\n",
       "    }\n",
       "</style>\n",
       "<table border=\"1\" class=\"dataframe\">\n",
       "  <thead>\n",
       "    <tr style=\"text-align: right;\">\n",
       "      <th></th>\n",
       "      <th>ImageID</th>\n",
       "      <th>ans</th>\n",
       "    </tr>\n",
       "  </thead>\n",
       "  <tbody>\n",
       "    <tr>\n",
       "      <th>0</th>\n",
       "      <td>cbc5c6e168e63498590db46022617123f1fe1268.jpg</td>\n",
       "      <td>13</td>\n",
       "    </tr>\n",
       "    <tr>\n",
       "      <th>1</th>\n",
       "      <td>0e72482bf56b3581c081f7da2a6180b8792c7089.jpg</td>\n",
       "      <td>2</td>\n",
       "    </tr>\n",
       "    <tr>\n",
       "      <th>2</th>\n",
       "      <td>b549040c49190cedc41327748aeb197c1670f14d.jpg</td>\n",
       "      <td>13</td>\n",
       "    </tr>\n",
       "    <tr>\n",
       "      <th>3</th>\n",
       "      <td>4f9cb2a045c6d5b9e50ad3459ea7b791eb6e18bc.jpg</td>\n",
       "      <td>13</td>\n",
       "    </tr>\n",
       "    <tr>\n",
       "      <th>4</th>\n",
       "      <td>248428d9a4a5b6229a7081c32851b90cb8d38d0c.jpg</td>\n",
       "      <td>17</td>\n",
       "    </tr>\n",
       "  </tbody>\n",
       "</table>\n",
       "</div>"
      ],
      "text/plain": [
       "                                        ImageID  ans\n",
       "0  cbc5c6e168e63498590db46022617123f1fe1268.jpg   13\n",
       "1  0e72482bf56b3581c081f7da2a6180b8792c7089.jpg    2\n",
       "2  b549040c49190cedc41327748aeb197c1670f14d.jpg   13\n",
       "3  4f9cb2a045c6d5b9e50ad3459ea7b791eb6e18bc.jpg   13\n",
       "4  248428d9a4a5b6229a7081c32851b90cb8d38d0c.jpg   17"
      ]
     },
     "execution_count": 42,
     "metadata": {},
     "output_type": "execute_result"
    }
   ],
   "source": [
    "# basedataset으로만 구한 결과 csv\n",
    "msbp_info = pd.read_csv('input/data/eval/info.csv')\n",
    "msbp_info['ans'] = msbp_lgbm_inf\n",
    "msbp_info.head()"
   ]
  },
  {
   "cell_type": "markdown",
   "id": "f890a0b6-52c5-45cd-b153-44c96e0c8eb7",
   "metadata": {},
   "source": [
    "### 3) centerCrop - stacking"
   ]
  },
  {
   "cell_type": "markdown",
   "id": "6b8d6e63-e8ab-4c80-837f-4e19e40c9be2",
   "metadata": {},
   "source": [
    "* 학습"
   ]
  },
  {
   "cell_type": "code",
   "execution_count": 84,
   "id": "57fa2ac2-1737-4d36-abec-5019beed9786",
   "metadata": {},
   "outputs": [
    {
     "name": "stdout",
     "output_type": "stream",
     "text": [
      "['baseline/train_output/resnet_e30_msbp_centerCrop.csv', 'baseline/train_output/densenet_e30_msbp_centerCrop.csv']\n"
     ]
    }
   ],
   "source": [
    "outputs = glob.glob('baseline/train_output/*')\n",
    "outputs = [file for file in outputs if file.endswith(\"centerCrop.csv\")]\n",
    "print(outputs)"
   ]
  },
  {
   "cell_type": "code",
   "execution_count": 85,
   "id": "8ce6ab85-959a-4c87-87dd-1136fb99a9c5",
   "metadata": {},
   "outputs": [
    {
     "data": {
      "text/plain": [
       "(3001, 2)"
      ]
     },
     "execution_count": 85,
     "metadata": {},
     "output_type": "execute_result"
    }
   ],
   "source": [
    "cc_new_input = create_new_data(outputs)\n",
    "cc_new_input.shape"
   ]
  },
  {
   "cell_type": "code",
   "execution_count": 86,
   "id": "1e73f03e-e041-4026-a4ab-39f59f1f2d52",
   "metadata": {},
   "outputs": [
    {
     "data": {
      "text/plain": [
       "array([[ 1,  1],\n",
       "       [ 0,  0],\n",
       "       [12, 12],\n",
       "       [ 0,  0],\n",
       "       [ 0,  0],\n",
       "       [ 0,  0],\n",
       "       [ 0,  0],\n",
       "       [ 6,  6],\n",
       "       [ 6,  0],\n",
       "       [ 4,  0]])"
      ]
     },
     "execution_count": 86,
     "metadata": {},
     "output_type": "execute_result"
    }
   ],
   "source": [
    "cc_new_input[:10]"
   ]
  },
  {
   "cell_type": "code",
   "execution_count": 87,
   "id": "d50ea485-4dd3-4dc3-b970-c3c601d7b4d7",
   "metadata": {},
   "outputs": [
    {
     "name": "stdout",
     "output_type": "stream",
     "text": [
      "[ 0  0 12 ...  1  1  1]\n"
     ]
    }
   ],
   "source": [
    "df = pd.read_csv(outputs[0], names=['label','pred'])\n",
    "labels = np.array(df['label'])\n",
    "print(labels)"
   ]
  },
  {
   "cell_type": "code",
   "execution_count": 88,
   "id": "cc9ff57b-3c6f-4905-81a7-810de250c587",
   "metadata": {},
   "outputs": [
    {
     "name": "stdout",
     "output_type": "stream",
     "text": [
      "0.6321226257914029\n"
     ]
    }
   ],
   "source": [
    "# lgbm 학습\n",
    "cc_lgbm = LGBMClassifier()\n",
    "\n",
    "cc_lgbm.fit(cc_new_input, labels)\n",
    "cc_lgbm_pred = cc_lgbm.predict(cc_new_input)\n",
    "\n",
    "print(accuracy_score(labels, cc_lgbm_pred))"
   ]
  },
  {
   "cell_type": "code",
   "execution_count": 89,
   "id": "88011084-5ce0-49f0-b8ee-dcba3076416e",
   "metadata": {},
   "outputs": [
    {
     "name": "stdout",
     "output_type": "stream",
     "text": [
      "resnet_e30_msbp_centerCrop 정확도: 0.5454848383872043\n",
      "densenet_e30_msbp_centerCrop 정확도: 0.5001666111296235\n"
     ]
    }
   ],
   "source": [
    "print_acc(outputs, labels)"
   ]
  },
  {
   "cell_type": "markdown",
   "id": "227a041b-9a2e-4450-baa0-f3f857f8597c",
   "metadata": {},
   "source": [
    "* centerCrop의 inference"
   ]
  },
  {
   "cell_type": "code",
   "execution_count": 90,
   "id": "cf82d1a9-aa7d-4fbf-b405-d28e88b8ff51",
   "metadata": {},
   "outputs": [
    {
     "name": "stdout",
     "output_type": "stream",
     "text": [
      "['baseline/output/resnet_e30_msbp_centerCrop.csv', 'baseline/output/densenet_e30_msbp_centerCrop.csv']\n"
     ]
    }
   ],
   "source": [
    "inf_outputs = path2inf(outputs)\n",
    "print(inf_outputs)"
   ]
  },
  {
   "cell_type": "code",
   "execution_count": 91,
   "id": "fcec38b1-aefa-4da7-9cc6-3e0133888434",
   "metadata": {},
   "outputs": [
    {
     "data": {
      "text/plain": [
       "(12600, 2)"
      ]
     },
     "execution_count": 91,
     "metadata": {},
     "output_type": "execute_result"
    }
   ],
   "source": [
    "cc_inf_input = create_inf_data(inf_outputs)\n",
    "cc_inf_input.shape"
   ]
  },
  {
   "cell_type": "code",
   "execution_count": 92,
   "id": "93f793ff-4c07-411f-9a91-6d465c1da172",
   "metadata": {},
   "outputs": [
    {
     "data": {
      "text/plain": [
       "array([[3, 1],\n",
       "       [3, 3],\n",
       "       [0, 0],\n",
       "       [0, 4],\n",
       "       [3, 4],\n",
       "       [3, 0],\n",
       "       [3, 1],\n",
       "       [4, 0],\n",
       "       [3, 4],\n",
       "       [3, 3]])"
      ]
     },
     "execution_count": 92,
     "metadata": {},
     "output_type": "execute_result"
    }
   ],
   "source": [
    "cc_inf_input[:10]"
   ]
  },
  {
   "cell_type": "code",
   "execution_count": 93,
   "id": "683470f8-e6b7-481d-836e-0c16753810b1",
   "metadata": {},
   "outputs": [],
   "source": [
    "cc_lgbm_inf = cc_lgbm.predict(cc_inf_input)"
   ]
  },
  {
   "cell_type": "code",
   "execution_count": 94,
   "id": "2047fa4d-ae78-420d-a3f2-df30df19b435",
   "metadata": {},
   "outputs": [
    {
     "data": {
      "text/html": [
       "<div>\n",
       "<style scoped>\n",
       "    .dataframe tbody tr th:only-of-type {\n",
       "        vertical-align: middle;\n",
       "    }\n",
       "\n",
       "    .dataframe tbody tr th {\n",
       "        vertical-align: top;\n",
       "    }\n",
       "\n",
       "    .dataframe thead th {\n",
       "        text-align: right;\n",
       "    }\n",
       "</style>\n",
       "<table border=\"1\" class=\"dataframe\">\n",
       "  <thead>\n",
       "    <tr style=\"text-align: right;\">\n",
       "      <th></th>\n",
       "      <th>ImageID</th>\n",
       "      <th>ans</th>\n",
       "    </tr>\n",
       "  </thead>\n",
       "  <tbody>\n",
       "    <tr>\n",
       "      <th>0</th>\n",
       "      <td>cbc5c6e168e63498590db46022617123f1fe1268.jpg</td>\n",
       "      <td>3</td>\n",
       "    </tr>\n",
       "    <tr>\n",
       "      <th>1</th>\n",
       "      <td>0e72482bf56b3581c081f7da2a6180b8792c7089.jpg</td>\n",
       "      <td>3</td>\n",
       "    </tr>\n",
       "    <tr>\n",
       "      <th>2</th>\n",
       "      <td>b549040c49190cedc41327748aeb197c1670f14d.jpg</td>\n",
       "      <td>0</td>\n",
       "    </tr>\n",
       "    <tr>\n",
       "      <th>3</th>\n",
       "      <td>4f9cb2a045c6d5b9e50ad3459ea7b791eb6e18bc.jpg</td>\n",
       "      <td>4</td>\n",
       "    </tr>\n",
       "    <tr>\n",
       "      <th>4</th>\n",
       "      <td>248428d9a4a5b6229a7081c32851b90cb8d38d0c.jpg</td>\n",
       "      <td>3</td>\n",
       "    </tr>\n",
       "  </tbody>\n",
       "</table>\n",
       "</div>"
      ],
      "text/plain": [
       "                                        ImageID  ans\n",
       "0  cbc5c6e168e63498590db46022617123f1fe1268.jpg    3\n",
       "1  0e72482bf56b3581c081f7da2a6180b8792c7089.jpg    3\n",
       "2  b549040c49190cedc41327748aeb197c1670f14d.jpg    0\n",
       "3  4f9cb2a045c6d5b9e50ad3459ea7b791eb6e18bc.jpg    4\n",
       "4  248428d9a4a5b6229a7081c32851b90cb8d38d0c.jpg    3"
      ]
     },
     "execution_count": 94,
     "metadata": {},
     "output_type": "execute_result"
    }
   ],
   "source": [
    "# basedataset으로만 구한 결과 csv\n",
    "cc_info = pd.read_csv('input/data/eval/info.csv')\n",
    "cc_info['ans'] = cc_lgbm_inf\n",
    "cc_info.head()"
   ]
  },
  {
   "cell_type": "markdown",
   "id": "31ce9ff1-ffbb-4c3f-a9be-20197dae5384",
   "metadata": {},
   "source": [
    "#### 4) Hard Voting\n",
    "* lgbm 모델이 두 개 뿐일 때 : 그냥 hard voting / stacking X"
   ]
  },
  {
   "cell_type": "code",
   "execution_count": 62,
   "id": "a6df53f3-e984-423c-b9b5-9dd33ae616e0",
   "metadata": {},
   "outputs": [],
   "source": [
    "voting_lst = []\n",
    "for i in range(len(base_inf_input)):\n",
    "    voting_lst.append(list(base_inf_input[i]) + list(msbp_inf_input[i]))"
   ]
  },
  {
   "cell_type": "code",
   "execution_count": 64,
   "id": "2fc60b05-934a-40b6-b083-7a80369d683f",
   "metadata": {},
   "outputs": [
    {
     "data": {
      "text/plain": [
       "[[13, 13, 13, 13, 0],\n",
       " [1, 5, 5, 1, 3],\n",
       " [6, 13, 13, 13, 1],\n",
       " [13, 13, 13, 13, 13],\n",
       " [12, 12, 12, 16, 0],\n",
       " [0, 0, 0, 1, 0],\n",
       " [1, 1, 2, 1, 7],\n",
       " [10, 4, 3, 4, 1],\n",
       " [4, 1, 4, 4, 4],\n",
       " [3, 3, 3, 3, 3]]"
      ]
     },
     "execution_count": 64,
     "metadata": {},
     "output_type": "execute_result"
    }
   ],
   "source": [
    "voting_lst[:10]"
   ]
  },
  {
   "cell_type": "code",
   "execution_count": 68,
   "id": "b5d3dffc-cfe8-4522-91c8-5e5d38b11a47",
   "metadata": {},
   "outputs": [],
   "source": [
    "result = []\n",
    "for data in voting_lst:\n",
    "    result.append(max(data, key=data.count))"
   ]
  },
  {
   "cell_type": "code",
   "execution_count": 71,
   "id": "54b4887b-c0e5-4026-b73c-94f7e32bf3b3",
   "metadata": {},
   "outputs": [
    {
     "data": {
      "text/plain": [
       "[13, 1, 13, 13, 12, 0, 1, 4, 4, 3]"
      ]
     },
     "execution_count": 71,
     "metadata": {},
     "output_type": "execute_result"
    }
   ],
   "source": [
    "result[:10]"
   ]
  },
  {
   "cell_type": "markdown",
   "id": "ad084d12-beac-4f26-bfda-24b8197b1700",
   "metadata": {},
   "source": [
    "* lgbm 모델이 두 개 이상일 때 : stacking 결과 -> hard voting"
   ]
  },
  {
   "cell_type": "code",
   "execution_count": 97,
   "id": "9a634037-daff-45b8-a90f-65a606d25098",
   "metadata": {},
   "outputs": [
    {
     "data": {
      "text/plain": [
       "(12600,)"
      ]
     },
     "execution_count": 99,
     "metadata": {},
     "output_type": "execute_result"
    }
   ],
   "source": [
    "base_lgbm_inf"
   ]
  },
  {
   "cell_type": "code",
   "execution_count": 112,
   "id": "4069d467-81b7-41dd-9f9a-3b647c0503d3",
   "metadata": {},
   "outputs": [],
   "source": [
    "vote_lst = []\n",
    "vote_lst.append(list(base_lgbm_inf))\n",
    "vote_lst.append(list(msbp_lgbm_inf))\n",
    "vote_lst.append(list(cc_lgbm_inf))\n",
    "vote_lst = np.transpose(vote_lst)"
   ]
  },
  {
   "cell_type": "code",
   "execution_count": 113,
   "id": "5eeae560-51d7-4a50-b3d0-01038d107108",
   "metadata": {},
   "outputs": [
    {
     "data": {
      "text/plain": [
       "(12600, 3)"
      ]
     },
     "execution_count": 113,
     "metadata": {},
     "output_type": "execute_result"
    }
   ],
   "source": [
    "vote_lst.shape"
   ]
  },
  {
   "cell_type": "code",
   "execution_count": 115,
   "id": "876b4154-d06e-46f4-a14d-b251743a8d38",
   "metadata": {},
   "outputs": [
    {
     "data": {
      "text/plain": [
       "array([[13, 13,  3],\n",
       "       [ 1,  2,  3],\n",
       "       [13, 13,  0],\n",
       "       [13, 13,  4],\n",
       "       [12, 17,  3],\n",
       "       [ 0,  0,  3],\n",
       "       [ 1,  1,  3],\n",
       "       [ 4,  3,  4],\n",
       "       [ 1,  4,  3],\n",
       "       [ 3,  3,  3]])"
      ]
     },
     "execution_count": 115,
     "metadata": {},
     "output_type": "execute_result"
    }
   ],
   "source": [
    "vote_lst[:10]"
   ]
  },
  {
   "cell_type": "code",
   "execution_count": 122,
   "id": "26d2f7ff-520c-458e-a701-b19e4a6589ee",
   "metadata": {},
   "outputs": [],
   "source": [
    "result = []\n",
    "for data in list(vote_lst):\n",
    "    result.append(max(data, key=list(data).count))"
   ]
  },
  {
   "cell_type": "code",
   "execution_count": 124,
   "id": "238d1db5-1970-4876-aed9-5c1fb58119bc",
   "metadata": {},
   "outputs": [
    {
     "data": {
      "text/plain": [
       "[13, 1, 13, 13, 12, 0, 1, 4, 1, 3]"
      ]
     },
     "execution_count": 124,
     "metadata": {},
     "output_type": "execute_result"
    }
   ],
   "source": [
    "result[:10]"
   ]
  },
  {
   "cell_type": "markdown",
   "id": "cf3d1d72-d4f9-4882-bf63-ab37b2778236",
   "metadata": {
    "jp-MarkdownHeadingCollapsed": true,
    "tags": []
   },
   "source": [
    "## Soft Voting"
   ]
  },
  {
   "cell_type": "code",
   "execution_count": 69,
   "id": "dbedf5c8-1704-4933-8892-ccc1cb296a4e",
   "metadata": {},
   "outputs": [
    {
     "name": "stdout",
     "output_type": "stream",
     "text": [
      "['baseline/output/resnet_e30_adam_msbp_prob.csv', 'baseline/output/densenet_e30_msbp_centerCrop_prob.csv', 'baseline/output/densenet_e30_prob.csv', 'baseline/output/resnet18_e30_prob.csv', 'baseline/output/resnet_e30_msbp_prob.csv', 'baseline/output/densenet_e30_msbp_myAug_prob.csv']\n",
      "6\n"
     ]
    }
   ],
   "source": [
    "outputs = glob.glob('baseline/output/*prob.csv')\n",
    "print(outputs)\n",
    "print(len(outputs))"
   ]
  },
  {
   "cell_type": "code",
   "execution_count": 9,
   "id": "c2e38f91-29de-42b5-a748-3c0a609445df",
   "metadata": {},
   "outputs": [],
   "source": [
    "for output in outputs:\n",
    "    df = pd.read_csv(output)\n",
    "    print(df.head())"
   ]
  },
  {
   "cell_type": "code",
   "execution_count": 91,
   "id": "fc581888-218d-407e-8c78-a71f5b4ba7ac",
   "metadata": {},
   "outputs": [
    {
     "data": {
      "text/html": [
       "<div>\n",
       "<style scoped>\n",
       "    .dataframe tbody tr th:only-of-type {\n",
       "        vertical-align: middle;\n",
       "    }\n",
       "\n",
       "    .dataframe tbody tr th {\n",
       "        vertical-align: top;\n",
       "    }\n",
       "\n",
       "    .dataframe thead th {\n",
       "        text-align: right;\n",
       "    }\n",
       "</style>\n",
       "<table border=\"1\" class=\"dataframe\">\n",
       "  <thead>\n",
       "    <tr style=\"text-align: right;\">\n",
       "      <th></th>\n",
       "      <th>ImageID</th>\n",
       "      <th>ans</th>\n",
       "    </tr>\n",
       "  </thead>\n",
       "  <tbody>\n",
       "    <tr>\n",
       "      <th>0</th>\n",
       "      <td>cbc5c6e168e63498590db46022617123f1fe1268.jpg</td>\n",
       "      <td>13</td>\n",
       "    </tr>\n",
       "    <tr>\n",
       "      <th>1</th>\n",
       "      <td>0e72482bf56b3581c081f7da2a6180b8792c7089.jpg</td>\n",
       "      <td>5</td>\n",
       "    </tr>\n",
       "    <tr>\n",
       "      <th>2</th>\n",
       "      <td>b549040c49190cedc41327748aeb197c1670f14d.jpg</td>\n",
       "      <td>13</td>\n",
       "    </tr>\n",
       "    <tr>\n",
       "      <th>3</th>\n",
       "      <td>4f9cb2a045c6d5b9e50ad3459ea7b791eb6e18bc.jpg</td>\n",
       "      <td>13</td>\n",
       "    </tr>\n",
       "    <tr>\n",
       "      <th>4</th>\n",
       "      <td>248428d9a4a5b6229a7081c32851b90cb8d38d0c.jpg</td>\n",
       "      <td>12</td>\n",
       "    </tr>\n",
       "  </tbody>\n",
       "</table>\n",
       "</div>"
      ],
      "text/plain": [
       "                                        ImageID  ans\n",
       "0  cbc5c6e168e63498590db46022617123f1fe1268.jpg   13\n",
       "1  0e72482bf56b3581c081f7da2a6180b8792c7089.jpg    5\n",
       "2  b549040c49190cedc41327748aeb197c1670f14d.jpg   13\n",
       "3  4f9cb2a045c6d5b9e50ad3459ea7b791eb6e18bc.jpg   13\n",
       "4  248428d9a4a5b6229a7081c32851b90cb8d38d0c.jpg   12"
      ]
     },
     "execution_count": 91,
     "metadata": {},
     "output_type": "execute_result"
    }
   ],
   "source": [
    "df = pd.read_csv(output)\n",
    "df.head()"
   ]
  },
  {
   "cell_type": "code",
   "execution_count": 40,
   "id": "911c2a66-1b80-463c-a558-41d0d205c3ca",
   "metadata": {},
   "outputs": [
    {
     "name": "stdout",
     "output_type": "stream",
     "text": [
      "[3.948216, -1.5690122, -2.3456116, 1.143654, -2.9977727, -2.948003, -0.17715444, -3.5912628, -3.6973383, -2.3123062, -5.079523, -4.018175, 2.4623234, -1.2252645, -1.9448456, 0.42810258, -2.4179013, -2.478973]\n"
     ]
    }
   ],
   "source": [
    "def ans_list(model_idx, data_idx):\n",
    "    df = pd.read_csv(outputs[model_idx])\n",
    "    ans_list = list(np.float_(df['ans'][data_idx].split()[1:-1]))\n",
    "    return ans_list"
   ]
  },
  {
   "cell_type": "code",
   "execution_count": null,
   "id": "9709833c-9123-4924-81d0-db51903c4046",
   "metadata": {},
   "outputs": [],
   "source": []
  },
  {
   "cell_type": "markdown",
   "id": "dc2104c8-94e0-4866-9aa0-fbbe5c6afae4",
   "metadata": {
    "jp-MarkdownHeadingCollapsed": true,
    "tags": []
   },
   "source": [
    "## Hard Voting"
   ]
  },
  {
   "cell_type": "code",
   "execution_count": 2,
   "id": "34ed0d10-a8b9-4d00-af0d-686bda05b8b2",
   "metadata": {},
   "outputs": [
    {
     "name": "stdout",
     "output_type": "stream",
     "text": [
      "['baseline/output/densenet_e30_msbp_myAug.csv', 'baseline/output/resnet18_e30.csv', 'baseline/output/resnet_e30_msbp.csv', 'baseline/output/resnet_e30_adam_msbp.csv', 'baseline/output/densenet_e30_msbp_centerCrop_0.05.csv', 'baseline/output/densenet_e30.csv']\n"
     ]
    }
   ],
   "source": [
    "outputs = glob.glob('baseline/output/*')\n",
    "outputs = [file for file in outputs if not file.endswith(\"prob.csv\")]\n",
    "print(outputs)"
   ]
  },
  {
   "cell_type": "code",
   "execution_count": 3,
   "id": "1690766a-b5f5-4251-8645-8d992c0dc8c3",
   "metadata": {},
   "outputs": [
    {
     "data": {
      "text/plain": [
       "(12600, 6)"
      ]
     },
     "execution_count": 3,
     "metadata": {},
     "output_type": "execute_result"
    }
   ],
   "source": [
    "# 각 모델의 decision 합치기 => new_input\n",
    "new_input = []\n",
    "for output in outputs:\n",
    "    df = pd.read_csv(output)\n",
    "    new_input.append(list(df['ans']))\n",
    "new_input = np.transpose(new_input)\n",
    "new_input.shape"
   ]
  },
  {
   "cell_type": "code",
   "execution_count": 4,
   "id": "00652af7-d824-4b50-94b7-fb6aab2e053b",
   "metadata": {},
   "outputs": [
    {
     "data": {
      "text/plain": [
       "array([[ 0, 13, 13,  0,  1, 13],\n",
       "       [ 3,  1,  1,  3,  3,  5],\n",
       "       [ 4,  6, 13,  1,  0, 13],\n",
       "       [ 4, 13, 13, 13,  4, 13],\n",
       "       [ 4, 12, 16,  0,  4, 12],\n",
       "       [ 4,  0,  1,  0,  0,  0],\n",
       "       [ 4,  1,  1,  7,  1,  1],\n",
       "       [ 4, 10,  4,  1,  0,  4],\n",
       "       [ 4,  4,  4,  4,  4,  1],\n",
       "       [ 4,  3,  3,  3,  3,  3]])"
      ]
     },
     "execution_count": 4,
     "metadata": {},
     "output_type": "execute_result"
    }
   ],
   "source": [
    "new_input[:10]"
   ]
  }
 ],
 "metadata": {
  "kernelspec": {
   "display_name": "Python 3 (ipykernel)",
   "language": "python",
   "name": "python3"
  },
  "language_info": {
   "codemirror_mode": {
    "name": "ipython",
    "version": 3
   },
   "file_extension": ".py",
   "mimetype": "text/x-python",
   "name": "python",
   "nbconvert_exporter": "python",
   "pygments_lexer": "ipython3",
   "version": "3.8.5"
  }
 },
 "nbformat": 4,
 "nbformat_minor": 5
}
