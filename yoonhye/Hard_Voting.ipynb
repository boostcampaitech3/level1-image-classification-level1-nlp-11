{
 "cells": [
  {
   "cell_type": "code",
   "execution_count": 1,
   "id": "cf1d4a7f-a8cb-422e-b315-5d7490cbc09e",
   "metadata": {},
   "outputs": [],
   "source": [
    "import numpy as np\n",
    "import pandas as pd\n",
    "from glob import glob"
   ]
  },
  {
   "cell_type": "code",
   "execution_count": null,
   "id": "5c40e9b9-80e3-4114-b029-3ddacd16948b",
   "metadata": {},
   "outputs": [],
   "source": [
    "outputs = glob('submission.csv 파일들 위치/*')\n",
    "print(len(outputs))"
   ]
  }
 ],
 "metadata": {
  "kernelspec": {
   "display_name": "Python 3 (ipykernel)",
   "language": "python",
   "name": "python3"
  },
  "language_info": {
   "codemirror_mode": {
    "name": "ipython",
    "version": 3
   },
   "file_extension": ".py",
   "mimetype": "text/x-python",
   "name": "python",
   "nbconvert_exporter": "python",
   "pygments_lexer": "ipython3",
   "version": "3.8.5"
  }
 },
 "nbformat": 4,
 "nbformat_minor": 5
}
